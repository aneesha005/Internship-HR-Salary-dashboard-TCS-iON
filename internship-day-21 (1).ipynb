{
 "cells": [
  {
   "cell_type": "code",
   "execution_count": 109,
   "id": "2f8d0e59",
   "metadata": {},
   "outputs": [],
   "source": [
    "import pandas as pd\n",
    "import numpy as np\n",
    "import seaborn as sns\n",
    "import matplotlib.pyplot as plt"
   ]
  },
  {
   "cell_type": "code",
   "execution_count": 110,
   "id": "a02c7fb0",
   "metadata": {},
   "outputs": [],
   "source": [
    "df=pd.read_csv(r\"D:\\Norka\\Intenship\\50000 Records-new..csv\")"
   ]
  },
  {
   "cell_type": "code",
   "execution_count": 111,
   "id": "641485c6",
   "metadata": {},
   "outputs": [
    {
     "data": {
      "text/html": [
       "<div>\n",
       "<style scoped>\n",
       "    .dataframe tbody tr th:only-of-type {\n",
       "        vertical-align: middle;\n",
       "    }\n",
       "\n",
       "    .dataframe tbody tr th {\n",
       "        vertical-align: top;\n",
       "    }\n",
       "\n",
       "    .dataframe thead th {\n",
       "        text-align: right;\n",
       "    }\n",
       "</style>\n",
       "<table border=\"1\" class=\"dataframe\">\n",
       "  <thead>\n",
       "    <tr style=\"text-align: right;\">\n",
       "      <th></th>\n",
       "      <th>Emp ID</th>\n",
       "      <th>Name Prefix</th>\n",
       "      <th>First Name</th>\n",
       "      <th>Gender</th>\n",
       "      <th>Age in Yrs</th>\n",
       "      <th>Date of Joining</th>\n",
       "      <th>Age in Company (Years)</th>\n",
       "      <th>Country</th>\n",
       "      <th>Region</th>\n",
       "      <th>Salary</th>\n",
       "    </tr>\n",
       "  </thead>\n",
       "  <tbody>\n",
       "    <tr>\n",
       "      <th>0</th>\n",
       "      <td>857211</td>\n",
       "      <td>Ms.</td>\n",
       "      <td>Hermila</td>\n",
       "      <td>F</td>\n",
       "      <td>24</td>\n",
       "      <td>09-09-2014</td>\n",
       "      <td>2</td>\n",
       "      <td>Clay</td>\n",
       "      <td>South</td>\n",
       "      <td>168991</td>\n",
       "    </tr>\n",
       "    <tr>\n",
       "      <th>1</th>\n",
       "      <td>514341</td>\n",
       "      <td>Mr.</td>\n",
       "      <td>Antonio</td>\n",
       "      <td>M</td>\n",
       "      <td>27</td>\n",
       "      <td>08-02-2011</td>\n",
       "      <td>5</td>\n",
       "      <td>Screven</td>\n",
       "      <td>South</td>\n",
       "      <td>53504</td>\n",
       "    </tr>\n",
       "    <tr>\n",
       "      <th>2</th>\n",
       "      <td>314598</td>\n",
       "      <td>Prof.</td>\n",
       "      <td>Sebastian</td>\n",
       "      <td>M</td>\n",
       "      <td>36</td>\n",
       "      <td>04-01-2012</td>\n",
       "      <td>5</td>\n",
       "      <td>Jefferson</td>\n",
       "      <td>Northeast</td>\n",
       "      <td>158859</td>\n",
       "    </tr>\n",
       "    <tr>\n",
       "      <th>3</th>\n",
       "      <td>987773</td>\n",
       "      <td>Mr.</td>\n",
       "      <td>Alec</td>\n",
       "      <td>M</td>\n",
       "      <td>43</td>\n",
       "      <td>3-19-1998</td>\n",
       "      <td>19</td>\n",
       "      <td>Milledgeville</td>\n",
       "      <td>South</td>\n",
       "      <td>76105</td>\n",
       "    </tr>\n",
       "    <tr>\n",
       "      <th>4</th>\n",
       "      <td>690850</td>\n",
       "      <td>Mr.</td>\n",
       "      <td>Reggie</td>\n",
       "      <td>M</td>\n",
       "      <td>50</td>\n",
       "      <td>01-04-2010</td>\n",
       "      <td>7</td>\n",
       "      <td>Greene</td>\n",
       "      <td>Midwest</td>\n",
       "      <td>134436</td>\n",
       "    </tr>\n",
       "    <tr>\n",
       "      <th>...</th>\n",
       "      <td>...</td>\n",
       "      <td>...</td>\n",
       "      <td>...</td>\n",
       "      <td>...</td>\n",
       "      <td>...</td>\n",
       "      <td>...</td>\n",
       "      <td>...</td>\n",
       "      <td>...</td>\n",
       "      <td>...</td>\n",
       "      <td>...</td>\n",
       "    </tr>\n",
       "    <tr>\n",
       "      <th>49994</th>\n",
       "      <td>174392</td>\n",
       "      <td>Ms.</td>\n",
       "      <td>Manuela</td>\n",
       "      <td>F</td>\n",
       "      <td>55</td>\n",
       "      <td>06-10-2006</td>\n",
       "      <td>11</td>\n",
       "      <td>Buncombe</td>\n",
       "      <td>South</td>\n",
       "      <td>173154</td>\n",
       "    </tr>\n",
       "    <tr>\n",
       "      <th>49995</th>\n",
       "      <td>955700</td>\n",
       "      <td>Ms.</td>\n",
       "      <td>Ruth</td>\n",
       "      <td>F</td>\n",
       "      <td>36</td>\n",
       "      <td>6-22-2017</td>\n",
       "      <td>1</td>\n",
       "      <td>Franklin</td>\n",
       "      <td>Midwest</td>\n",
       "      <td>111738</td>\n",
       "    </tr>\n",
       "    <tr>\n",
       "      <th>49996</th>\n",
       "      <td>811811</td>\n",
       "      <td>Ms.</td>\n",
       "      <td>Roselia</td>\n",
       "      <td>F</td>\n",
       "      <td>41</td>\n",
       "      <td>10-28-2007</td>\n",
       "      <td>9</td>\n",
       "      <td>Sargent</td>\n",
       "      <td>Midwest</td>\n",
       "      <td>191991</td>\n",
       "    </tr>\n",
       "    <tr>\n",
       "      <th>49997</th>\n",
       "      <td>365602</td>\n",
       "      <td>Ms.</td>\n",
       "      <td>Kasha</td>\n",
       "      <td>F</td>\n",
       "      <td>37</td>\n",
       "      <td>12-25-2012</td>\n",
       "      <td>4</td>\n",
       "      <td>Middlesex</td>\n",
       "      <td>Northeast</td>\n",
       "      <td>173216</td>\n",
       "    </tr>\n",
       "    <tr>\n",
       "      <th>49998</th>\n",
       "      <td>504521</td>\n",
       "      <td>Ms.</td>\n",
       "      <td>Corinna</td>\n",
       "      <td>F</td>\n",
       "      <td>38</td>\n",
       "      <td>10-06-2013</td>\n",
       "      <td>3</td>\n",
       "      <td>Desha</td>\n",
       "      <td>South</td>\n",
       "      <td>153592</td>\n",
       "    </tr>\n",
       "  </tbody>\n",
       "</table>\n",
       "<p>49999 rows × 10 columns</p>\n",
       "</div>"
      ],
      "text/plain": [
       "       Emp ID Name Prefix First Name Gender  Age in Yrs Date of Joining  \\\n",
       "0      857211         Ms.    Hermila      F          24      09-09-2014   \n",
       "1      514341         Mr.    Antonio      M          27      08-02-2011   \n",
       "2      314598       Prof.  Sebastian      M          36      04-01-2012   \n",
       "3      987773         Mr.       Alec      M          43       3-19-1998   \n",
       "4      690850         Mr.     Reggie      M          50      01-04-2010   \n",
       "...       ...         ...        ...    ...         ...             ...   \n",
       "49994  174392         Ms.    Manuela      F          55      06-10-2006   \n",
       "49995  955700         Ms.       Ruth      F          36       6-22-2017   \n",
       "49996  811811         Ms.    Roselia      F          41      10-28-2007   \n",
       "49997  365602         Ms.      Kasha      F          37      12-25-2012   \n",
       "49998  504521         Ms.    Corinna      F          38      10-06-2013   \n",
       "\n",
       "       Age in Company (Years)        Country     Region  Salary  \n",
       "0                           2           Clay      South  168991  \n",
       "1                           5        Screven      South   53504  \n",
       "2                           5      Jefferson  Northeast  158859  \n",
       "3                          19  Milledgeville      South   76105  \n",
       "4                           7         Greene    Midwest  134436  \n",
       "...                       ...            ...        ...     ...  \n",
       "49994                      11       Buncombe      South  173154  \n",
       "49995                       1       Franklin    Midwest  111738  \n",
       "49996                       9        Sargent    Midwest  191991  \n",
       "49997                       4      Middlesex  Northeast  173216  \n",
       "49998                       3          Desha      South  153592  \n",
       "\n",
       "[49999 rows x 10 columns]"
      ]
     },
     "execution_count": 111,
     "metadata": {},
     "output_type": "execute_result"
    }
   ],
   "source": [
    "df"
   ]
  },
  {
   "cell_type": "code",
   "execution_count": 8,
   "id": "06a7b2e3",
   "metadata": {},
   "outputs": [
    {
     "name": "stdout",
     "output_type": "stream",
     "text": [
      "<class 'pandas.core.frame.DataFrame'>\n",
      "RangeIndex: 49999 entries, 0 to 49998\n",
      "Data columns (total 10 columns):\n",
      " #   Column                  Non-Null Count  Dtype \n",
      "---  ------                  --------------  ----- \n",
      " 0   Emp ID                  49999 non-null  int64 \n",
      " 1   Name Prefix             49999 non-null  object\n",
      " 2   First Name              49999 non-null  object\n",
      " 3   Gender                  49999 non-null  object\n",
      " 4   Age in Yrs              49999 non-null  int64 \n",
      " 5   Date of Joining         49999 non-null  object\n",
      " 6   Age in Company (Years)  49999 non-null  int64 \n",
      " 7   Country                 49999 non-null  object\n",
      " 8   Region                  49999 non-null  object\n",
      " 9   Salary                  49999 non-null  int64 \n",
      "dtypes: int64(4), object(6)\n",
      "memory usage: 3.8+ MB\n"
     ]
    }
   ],
   "source": [
    "df.info()"
   ]
  },
  {
   "cell_type": "code",
   "execution_count": 9,
   "id": "2cf84382",
   "metadata": {},
   "outputs": [
    {
     "data": {
      "text/plain": [
       "Emp ID                    0\n",
       "Name Prefix               0\n",
       "First Name                0\n",
       "Gender                    0\n",
       "Age in Yrs                0\n",
       "Date of Joining           0\n",
       "Age in Company (Years)    0\n",
       "Country                   0\n",
       "Region                    0\n",
       "Salary                    0\n",
       "dtype: int64"
      ]
     },
     "execution_count": 9,
     "metadata": {},
     "output_type": "execute_result"
    }
   ],
   "source": [
    "df.isnull().sum()"
   ]
  },
  {
   "cell_type": "code",
   "execution_count": 10,
   "id": "2e5ea21a",
   "metadata": {},
   "outputs": [
    {
     "data": {
      "text/html": [
       "<div>\n",
       "<style scoped>\n",
       "    .dataframe tbody tr th:only-of-type {\n",
       "        vertical-align: middle;\n",
       "    }\n",
       "\n",
       "    .dataframe tbody tr th {\n",
       "        vertical-align: top;\n",
       "    }\n",
       "\n",
       "    .dataframe thead th {\n",
       "        text-align: right;\n",
       "    }\n",
       "</style>\n",
       "<table border=\"1\" class=\"dataframe\">\n",
       "  <thead>\n",
       "    <tr style=\"text-align: right;\">\n",
       "      <th></th>\n",
       "      <th>Emp ID</th>\n",
       "      <th>Age in Yrs</th>\n",
       "      <th>Age in Company (Years)</th>\n",
       "      <th>Salary</th>\n",
       "    </tr>\n",
       "  </thead>\n",
       "  <tbody>\n",
       "    <tr>\n",
       "      <th>count</th>\n",
       "      <td>49999.000000</td>\n",
       "      <td>49999.00000</td>\n",
       "      <td>49999.000000</td>\n",
       "      <td>49999.000000</td>\n",
       "    </tr>\n",
       "    <tr>\n",
       "      <th>mean</th>\n",
       "      <td>555498.523950</td>\n",
       "      <td>39.97836</td>\n",
       "      <td>9.437269</td>\n",
       "      <td>120020.098642</td>\n",
       "    </tr>\n",
       "    <tr>\n",
       "      <th>std</th>\n",
       "      <td>256640.143462</td>\n",
       "      <td>11.22956</td>\n",
       "      <td>8.476399</td>\n",
       "      <td>46178.501293</td>\n",
       "    </tr>\n",
       "    <tr>\n",
       "      <th>min</th>\n",
       "      <td>111141.000000</td>\n",
       "      <td>21.00000</td>\n",
       "      <td>1.000000</td>\n",
       "      <td>40001.000000</td>\n",
       "    </tr>\n",
       "    <tr>\n",
       "      <th>25%</th>\n",
       "      <td>333295.000000</td>\n",
       "      <td>30.00000</td>\n",
       "      <td>2.000000</td>\n",
       "      <td>79921.500000</td>\n",
       "    </tr>\n",
       "    <tr>\n",
       "      <th>50%</th>\n",
       "      <td>556482.000000</td>\n",
       "      <td>40.00000</td>\n",
       "      <td>7.000000</td>\n",
       "      <td>120147.000000</td>\n",
       "    </tr>\n",
       "    <tr>\n",
       "      <th>75%</th>\n",
       "      <td>777141.500000</td>\n",
       "      <td>50.00000</td>\n",
       "      <td>14.000000</td>\n",
       "      <td>160036.500000</td>\n",
       "    </tr>\n",
       "    <tr>\n",
       "      <th>max</th>\n",
       "      <td>999989.000000</td>\n",
       "      <td>60.00000</td>\n",
       "      <td>38.000000</td>\n",
       "      <td>199998.000000</td>\n",
       "    </tr>\n",
       "  </tbody>\n",
       "</table>\n",
       "</div>"
      ],
      "text/plain": [
       "              Emp ID   Age in Yrs  Age in Company (Years)         Salary\n",
       "count   49999.000000  49999.00000            49999.000000   49999.000000\n",
       "mean   555498.523950     39.97836                9.437269  120020.098642\n",
       "std    256640.143462     11.22956                8.476399   46178.501293\n",
       "min    111141.000000     21.00000                1.000000   40001.000000\n",
       "25%    333295.000000     30.00000                2.000000   79921.500000\n",
       "50%    556482.000000     40.00000                7.000000  120147.000000\n",
       "75%    777141.500000     50.00000               14.000000  160036.500000\n",
       "max    999989.000000     60.00000               38.000000  199998.000000"
      ]
     },
     "execution_count": 10,
     "metadata": {},
     "output_type": "execute_result"
    }
   ],
   "source": [
    "df.describe()"
   ]
  },
  {
   "cell_type": "code",
   "execution_count": 11,
   "id": "1f4fd9bd",
   "metadata": {},
   "outputs": [
    {
     "data": {
      "text/plain": [
       "0        False\n",
       "1        False\n",
       "2        False\n",
       "3        False\n",
       "4        False\n",
       "         ...  \n",
       "49994    False\n",
       "49995    False\n",
       "49996    False\n",
       "49997    False\n",
       "49998    False\n",
       "Length: 49999, dtype: bool"
      ]
     },
     "execution_count": 11,
     "metadata": {},
     "output_type": "execute_result"
    }
   ],
   "source": [
    "df.duplicated()"
   ]
  },
  {
   "cell_type": "code",
   "execution_count": 12,
   "id": "e37bc74a",
   "metadata": {},
   "outputs": [
    {
     "data": {
      "text/plain": [
       "0        False\n",
       "1        False\n",
       "2        False\n",
       "3        False\n",
       "4        False\n",
       "         ...  \n",
       "49994    False\n",
       "49995    False\n",
       "49996    False\n",
       "49997    False\n",
       "49998    False\n",
       "Length: 49999, dtype: bool"
      ]
     },
     "execution_count": 12,
     "metadata": {},
     "output_type": "execute_result"
    }
   ],
   "source": [
    "df.duplicated(\"Emp ID\")"
   ]
  },
  {
   "cell_type": "code",
   "execution_count": 13,
   "id": "b2965db7",
   "metadata": {},
   "outputs": [
    {
     "data": {
      "text/plain": [
       "(49999, 10)"
      ]
     },
     "execution_count": 13,
     "metadata": {},
     "output_type": "execute_result"
    }
   ],
   "source": [
    "df.shape"
   ]
  },
  {
   "cell_type": "code",
   "execution_count": 14,
   "id": "ca8fb5f3",
   "metadata": {},
   "outputs": [],
   "source": [
    "df=df.drop_duplicates(\"Emp ID\")"
   ]
  },
  {
   "cell_type": "code",
   "execution_count": 15,
   "id": "21b10b50",
   "metadata": {},
   "outputs": [
    {
     "data": {
      "text/plain": [
       "(48614, 10)"
      ]
     },
     "execution_count": 15,
     "metadata": {},
     "output_type": "execute_result"
    }
   ],
   "source": [
    "df.shape"
   ]
  },
  {
   "cell_type": "code",
   "execution_count": 16,
   "id": "ba13eb16",
   "metadata": {},
   "outputs": [
    {
     "data": {
      "text/plain": [
       "Emp ID                     int64\n",
       "Name Prefix               object\n",
       "First Name                object\n",
       "Gender                    object\n",
       "Age in Yrs                 int64\n",
       "Date of Joining           object\n",
       "Age in Company (Years)     int64\n",
       "Country                   object\n",
       "Region                    object\n",
       "Salary                     int64\n",
       "dtype: object"
      ]
     },
     "execution_count": 16,
     "metadata": {},
     "output_type": "execute_result"
    }
   ],
   "source": [
    "df.dtypes"
   ]
  },
  {
   "cell_type": "code",
   "execution_count": 17,
   "id": "38b80776",
   "metadata": {},
   "outputs": [
    {
     "data": {
      "text/html": [
       "<div>\n",
       "<style scoped>\n",
       "    .dataframe tbody tr th:only-of-type {\n",
       "        vertical-align: middle;\n",
       "    }\n",
       "\n",
       "    .dataframe tbody tr th {\n",
       "        vertical-align: top;\n",
       "    }\n",
       "\n",
       "    .dataframe thead th {\n",
       "        text-align: right;\n",
       "    }\n",
       "</style>\n",
       "<table border=\"1\" class=\"dataframe\">\n",
       "  <thead>\n",
       "    <tr style=\"text-align: right;\">\n",
       "      <th></th>\n",
       "      <th>Emp ID</th>\n",
       "      <th>Name Prefix</th>\n",
       "      <th>First Name</th>\n",
       "      <th>Gender</th>\n",
       "      <th>Age in Yrs</th>\n",
       "      <th>Date of Joining</th>\n",
       "      <th>Age in Company (Years)</th>\n",
       "      <th>Country</th>\n",
       "      <th>Region</th>\n",
       "      <th>Salary</th>\n",
       "    </tr>\n",
       "  </thead>\n",
       "  <tbody>\n",
       "    <tr>\n",
       "      <th>0</th>\n",
       "      <td>857211</td>\n",
       "      <td>Ms.</td>\n",
       "      <td>Hermila</td>\n",
       "      <td>F</td>\n",
       "      <td>24</td>\n",
       "      <td>09-09-2014</td>\n",
       "      <td>2</td>\n",
       "      <td>Clay</td>\n",
       "      <td>South</td>\n",
       "      <td>168991</td>\n",
       "    </tr>\n",
       "    <tr>\n",
       "      <th>1</th>\n",
       "      <td>514341</td>\n",
       "      <td>Mr.</td>\n",
       "      <td>Antonio</td>\n",
       "      <td>M</td>\n",
       "      <td>27</td>\n",
       "      <td>08-02-2011</td>\n",
       "      <td>5</td>\n",
       "      <td>Screven</td>\n",
       "      <td>South</td>\n",
       "      <td>53504</td>\n",
       "    </tr>\n",
       "    <tr>\n",
       "      <th>2</th>\n",
       "      <td>314598</td>\n",
       "      <td>Prof.</td>\n",
       "      <td>Sebastian</td>\n",
       "      <td>M</td>\n",
       "      <td>36</td>\n",
       "      <td>04-01-2012</td>\n",
       "      <td>5</td>\n",
       "      <td>Jefferson</td>\n",
       "      <td>Northeast</td>\n",
       "      <td>158859</td>\n",
       "    </tr>\n",
       "    <tr>\n",
       "      <th>3</th>\n",
       "      <td>987773</td>\n",
       "      <td>Mr.</td>\n",
       "      <td>Alec</td>\n",
       "      <td>M</td>\n",
       "      <td>43</td>\n",
       "      <td>3-19-1998</td>\n",
       "      <td>19</td>\n",
       "      <td>Milledgeville</td>\n",
       "      <td>South</td>\n",
       "      <td>76105</td>\n",
       "    </tr>\n",
       "    <tr>\n",
       "      <th>4</th>\n",
       "      <td>690850</td>\n",
       "      <td>Mr.</td>\n",
       "      <td>Reggie</td>\n",
       "      <td>M</td>\n",
       "      <td>50</td>\n",
       "      <td>01-04-2010</td>\n",
       "      <td>7</td>\n",
       "      <td>Greene</td>\n",
       "      <td>Midwest</td>\n",
       "      <td>134436</td>\n",
       "    </tr>\n",
       "    <tr>\n",
       "      <th>5</th>\n",
       "      <td>358257</td>\n",
       "      <td>Prof.</td>\n",
       "      <td>Elisha</td>\n",
       "      <td>M</td>\n",
       "      <td>44</td>\n",
       "      <td>5-22-2015</td>\n",
       "      <td>2</td>\n",
       "      <td>Chelan</td>\n",
       "      <td>West</td>\n",
       "      <td>119237</td>\n",
       "    </tr>\n",
       "    <tr>\n",
       "      <th>6</th>\n",
       "      <td>303899</td>\n",
       "      <td>Mr.</td>\n",
       "      <td>Danilo</td>\n",
       "      <td>M</td>\n",
       "      <td>52</td>\n",
       "      <td>2-14-1994</td>\n",
       "      <td>23</td>\n",
       "      <td>Polk</td>\n",
       "      <td>Midwest</td>\n",
       "      <td>115449</td>\n",
       "    </tr>\n",
       "    <tr>\n",
       "      <th>7</th>\n",
       "      <td>901163</td>\n",
       "      <td>Ms.</td>\n",
       "      <td>Madalene</td>\n",
       "      <td>F</td>\n",
       "      <td>59</td>\n",
       "      <td>3-21-2011</td>\n",
       "      <td>6</td>\n",
       "      <td>Columbia</td>\n",
       "      <td>West</td>\n",
       "      <td>104968</td>\n",
       "    </tr>\n",
       "    <tr>\n",
       "      <th>8</th>\n",
       "      <td>640135</td>\n",
       "      <td>Drs.</td>\n",
       "      <td>Micheal</td>\n",
       "      <td>F</td>\n",
       "      <td>47</td>\n",
       "      <td>9-13-2001</td>\n",
       "      <td>15</td>\n",
       "      <td>Trumbull</td>\n",
       "      <td>Midwest</td>\n",
       "      <td>71948</td>\n",
       "    </tr>\n",
       "    <tr>\n",
       "      <th>9</th>\n",
       "      <td>775378</td>\n",
       "      <td>Mrs.</td>\n",
       "      <td>Wilma</td>\n",
       "      <td>F</td>\n",
       "      <td>50</td>\n",
       "      <td>7-19-1998</td>\n",
       "      <td>19</td>\n",
       "      <td>Doña Ana</td>\n",
       "      <td>West</td>\n",
       "      <td>114397</td>\n",
       "    </tr>\n",
       "    <tr>\n",
       "      <th>10</th>\n",
       "      <td>257614</td>\n",
       "      <td>Prof.</td>\n",
       "      <td>Jorge</td>\n",
       "      <td>M</td>\n",
       "      <td>47</td>\n",
       "      <td>10-31-2013</td>\n",
       "      <td>3</td>\n",
       "      <td>St. Croix</td>\n",
       "      <td>Midwest</td>\n",
       "      <td>106883</td>\n",
       "    </tr>\n",
       "    <tr>\n",
       "      <th>11</th>\n",
       "      <td>313674</td>\n",
       "      <td>Mr.</td>\n",
       "      <td>Isaac</td>\n",
       "      <td>M</td>\n",
       "      <td>34</td>\n",
       "      <td>05-04-2005</td>\n",
       "      <td>12</td>\n",
       "      <td>Los Angeles</td>\n",
       "      <td>West</td>\n",
       "      <td>79923</td>\n",
       "    </tr>\n",
       "    <tr>\n",
       "      <th>12</th>\n",
       "      <td>359415</td>\n",
       "      <td>Mr.</td>\n",
       "      <td>Emerson</td>\n",
       "      <td>M</td>\n",
       "      <td>45</td>\n",
       "      <td>5-24-1993</td>\n",
       "      <td>24</td>\n",
       "      <td>Johnson</td>\n",
       "      <td>Midwest</td>\n",
       "      <td>179309</td>\n",
       "    </tr>\n",
       "    <tr>\n",
       "      <th>13</th>\n",
       "      <td>858207</td>\n",
       "      <td>Mr.</td>\n",
       "      <td>Booker</td>\n",
       "      <td>M</td>\n",
       "      <td>37</td>\n",
       "      <td>11-17-2006</td>\n",
       "      <td>11</td>\n",
       "      <td>Northumberland</td>\n",
       "      <td>South</td>\n",
       "      <td>55634</td>\n",
       "    </tr>\n",
       "    <tr>\n",
       "      <th>14</th>\n",
       "      <td>731568</td>\n",
       "      <td>Prof.</td>\n",
       "      <td>Margarito</td>\n",
       "      <td>M</td>\n",
       "      <td>27</td>\n",
       "      <td>5-22-2014</td>\n",
       "      <td>3</td>\n",
       "      <td>Polk</td>\n",
       "      <td>West</td>\n",
       "      <td>173211</td>\n",
       "    </tr>\n",
       "  </tbody>\n",
       "</table>\n",
       "</div>"
      ],
      "text/plain": [
       "    Emp ID Name Prefix First Name Gender  Age in Yrs Date of Joining  \\\n",
       "0   857211         Ms.    Hermila      F          24      09-09-2014   \n",
       "1   514341         Mr.    Antonio      M          27      08-02-2011   \n",
       "2   314598       Prof.  Sebastian      M          36      04-01-2012   \n",
       "3   987773         Mr.       Alec      M          43       3-19-1998   \n",
       "4   690850         Mr.     Reggie      M          50      01-04-2010   \n",
       "5   358257       Prof.     Elisha      M          44       5-22-2015   \n",
       "6   303899         Mr.     Danilo      M          52       2-14-1994   \n",
       "7   901163         Ms.   Madalene      F          59       3-21-2011   \n",
       "8   640135        Drs.    Micheal      F          47       9-13-2001   \n",
       "9   775378        Mrs.      Wilma      F          50       7-19-1998   \n",
       "10  257614       Prof.      Jorge      M          47      10-31-2013   \n",
       "11  313674         Mr.      Isaac      M          34      05-04-2005   \n",
       "12  359415         Mr.    Emerson      M          45       5-24-1993   \n",
       "13  858207         Mr.     Booker      M          37      11-17-2006   \n",
       "14  731568       Prof.  Margarito      M          27       5-22-2014   \n",
       "\n",
       "    Age in Company (Years)         Country     Region  Salary  \n",
       "0                        2            Clay      South  168991  \n",
       "1                        5         Screven      South   53504  \n",
       "2                        5       Jefferson  Northeast  158859  \n",
       "3                       19   Milledgeville      South   76105  \n",
       "4                        7          Greene    Midwest  134436  \n",
       "5                        2          Chelan       West  119237  \n",
       "6                       23            Polk    Midwest  115449  \n",
       "7                        6        Columbia       West  104968  \n",
       "8                       15        Trumbull    Midwest   71948  \n",
       "9                       19        Doña Ana       West  114397  \n",
       "10                       3       St. Croix    Midwest  106883  \n",
       "11                      12     Los Angeles       West   79923  \n",
       "12                      24         Johnson    Midwest  179309  \n",
       "13                      11  Northumberland      South   55634  \n",
       "14                       3            Polk       West  173211  "
      ]
     },
     "execution_count": 17,
     "metadata": {},
     "output_type": "execute_result"
    }
   ],
   "source": [
    "df.head(15)"
   ]
  },
  {
   "cell_type": "code",
   "execution_count": 18,
   "id": "9d7fbf1f",
   "metadata": {},
   "outputs": [
    {
     "data": {
      "text/plain": [
       "Region\n",
       "South        18138\n",
       "Midwest      13279\n",
       "West          8638\n",
       "Northeast     8559\n",
       "dtype: int64"
      ]
     },
     "execution_count": 18,
     "metadata": {},
     "output_type": "execute_result"
    }
   ],
   "source": [
    "df.value_counts(\"Region\")"
   ]
  },
  {
   "cell_type": "code",
   "execution_count": 19,
   "id": "98539a09",
   "metadata": {},
   "outputs": [
    {
     "data": {
      "text/plain": [
       "First Name\n",
       "Allen      40\n",
       "Cecil      40\n",
       "Adam       40\n",
       "Juan       39\n",
       "Lindsey    39\n",
       "           ..\n",
       "Helaine     1\n",
       "Letty       1\n",
       "Heike       1\n",
       "Kenya       1\n",
       "Jene        1\n",
       "Length: 5152, dtype: int64"
      ]
     },
     "execution_count": 19,
     "metadata": {},
     "output_type": "execute_result"
    }
   ],
   "source": [
    "df.value_counts(\"First Name\")"
   ]
  },
  {
   "cell_type": "code",
   "execution_count": 20,
   "id": "5869ed3f",
   "metadata": {},
   "outputs": [
    {
     "data": {
      "text/plain": [
       "Name Prefix\n",
       "Mr.      16877\n",
       "Ms.      10877\n",
       "Mrs.      8141\n",
       "Hon.      5099\n",
       "Drs.      2725\n",
       "Dr.       2469\n",
       "Prof.     2426\n",
       "dtype: int64"
      ]
     },
     "execution_count": 20,
     "metadata": {},
     "output_type": "execute_result"
    }
   ],
   "source": [
    "df.value_counts(\"Name Prefix\")"
   ]
  },
  {
   "cell_type": "code",
   "execution_count": 21,
   "id": "d466747b",
   "metadata": {},
   "outputs": [
    {
     "data": {
      "text/plain": [
       "Country\n",
       "Jefferson      566\n",
       "Los Angeles    560\n",
       "Washington     559\n",
       "Montgomery     452\n",
       "Orange         424\n",
       "              ... \n",
       "Marcus           1\n",
       "Marysville       1\n",
       "McFadden         1\n",
       "McKittrick       1\n",
       "Zurich           1\n",
       "Length: 2438, dtype: int64"
      ]
     },
     "execution_count": 21,
     "metadata": {},
     "output_type": "execute_result"
    }
   ],
   "source": [
    "df.value_counts(\"Country\")"
   ]
  },
  {
   "cell_type": "code",
   "execution_count": 22,
   "id": "10170bd9",
   "metadata": {},
   "outputs": [
    {
     "name": "stderr",
     "output_type": "stream",
     "text": [
      "C:\\Users\\91799\\anaconda3\\lib\\site-packages\\pandas\\core\\frame.py:3191: SettingWithCopyWarning: \n",
      "A value is trying to be set on a copy of a slice from a DataFrame.\n",
      "Try using .loc[row_indexer,col_indexer] = value instead\n",
      "\n",
      "See the caveats in the documentation: https://pandas.pydata.org/pandas-docs/stable/user_guide/indexing.html#returning-a-view-versus-a-copy\n",
      "  self[k1] = value[k2]\n"
     ]
    }
   ],
   "source": [
    "df[[\"Emp ID\", \"Name Prefix\",\"First Name\", \"Gender\", \"Age in Yrs\", \"Date of Joining\", \"Age in Company (Years)\", \"Country\",\"Region\",\"Salary\"]] =df[[\"Emp ID\", \"Name Prefix\",\"First Name\", \"Gender\", \"Age in Yrs\", \"Date of Joining\", \"Age in Company (Years)\", \"Country\",\"Region\",\"Salary\"]].replace(0,np.NaN)"
   ]
  },
  {
   "cell_type": "code",
   "execution_count": 23,
   "id": "f6ba9a23",
   "metadata": {},
   "outputs": [
    {
     "data": {
      "text/plain": [
       "Emp ID                    0\n",
       "Name Prefix               0\n",
       "First Name                0\n",
       "Gender                    0\n",
       "Age in Yrs                0\n",
       "Date of Joining           0\n",
       "Age in Company (Years)    0\n",
       "Country                   0\n",
       "Region                    0\n",
       "Salary                    0\n",
       "dtype: int64"
      ]
     },
     "execution_count": 23,
     "metadata": {},
     "output_type": "execute_result"
    }
   ],
   "source": [
    "df.isnull().sum()"
   ]
  },
  {
   "cell_type": "code",
   "execution_count": 115,
   "id": "369e40f0",
   "metadata": {},
   "outputs": [
    {
     "name": "stderr",
     "output_type": "stream",
     "text": [
      "C:\\Users\\91799\\anaconda3\\lib\\site-packages\\seaborn\\_decorators.py:36: FutureWarning: Pass the following variable as a keyword arg: x. From version 0.12, the only valid positional argument will be `data`, and passing other arguments without an explicit keyword will result in an error or misinterpretation.\n",
      "  warnings.warn(\n"
     ]
    },
    {
     "data": {
      "text/plain": [
       "<AxesSubplot:xlabel='Salary', ylabel='count'>"
      ]
     },
     "execution_count": 115,
     "metadata": {},
     "output_type": "execute_result"
    },
    {
     "data": {
      "image/png": "[encoded data removed]",
      "text/plain": [
       "<Figure size 432x288 with 1 Axes>"
      ]
     },
     "metadata": {
      "needs_background": "light"
     },
     "output_type": "display_data"
    }
   ],
   "source": [
    "sns.countplot(df.Salary,hue=df.Gender)"
   ]
  },
  {
   "cell_type": "code",
   "execution_count": 114,
   "id": "b56619d0",
   "metadata": {},
   "outputs": [
    {
     "data": {
      "text/plain": [
       "array([[<AxesSubplot:title={'center':'Emp ID'}>,\n",
       "        <AxesSubplot:title={'center':'Age in Yrs'}>],\n",
       "       [<AxesSubplot:title={'center':'Age in Company (Years)'}>,\n",
       "        <AxesSubplot:title={'center':'Salary'}>]], dtype=object)"
      ]
     },
     "execution_count": 114,
     "metadata": {},
     "output_type": "execute_result"
    },
    {
     "data": {
      "image/png": "[encoded data removed]",
      "text/plain": [
       "<Figure size 720x720 with 4 Axes>"
      ]
     },
     "metadata": {
      "needs_background": "light"
     },
     "output_type": "display_data"
    }
   ],
   "source": [
    "df.hist(bins=50,figsize=(10,10))"
   ]
  },
  {
   "cell_type": "code",
   "execution_count": 25,
   "id": "773a7eb5",
   "metadata": {},
   "outputs": [
    {
     "data": {
      "image/png": "[encoded data removed]",
      "text/plain": [
       "<Figure size 720x360 with 1 Axes>"
      ]
     },
     "metadata": {},
     "output_type": "display_data"
    }
   ],
   "source": [
    "df[\"Age in Yrs\"].value_counts().plot(kind='pie', title='Age in Yrs',figsize=(10,5))\n",
    "plt.show()"
   ]
  },
  {
   "cell_type": "code",
   "execution_count": 26,
   "id": "3771e2f6",
   "metadata": {},
   "outputs": [
    {
     "data": {
      "image/png": "[encoded data removed]",
      "text/plain": [
       "<Figure size 720x360 with 1 Axes>"
      ]
     },
     "metadata": {},
     "output_type": "display_data"
    }
   ],
   "source": [
    "df[\"Age in Company (Years)\"].value_counts().plot(kind='pie', title='Age in Company (Years)',figsize=(10,5))\n",
    "plt.show()"
   ]
  },
  {
   "cell_type": "code",
   "execution_count": 27,
   "id": "a11939b7",
   "metadata": {},
   "outputs": [
    {
     "data": {
      "image/png": "[encoded data removed]",
      "text/plain": [
       "<Figure size 720x360 with 1 Axes>"
      ]
     },
     "metadata": {},
     "output_type": "display_data"
    }
   ],
   "source": [
    "df[\"Region\"].value_counts().plot(kind='pie', title='Region',figsize=(10,5))\n",
    "plt.show()"
   ]
  },
  {
   "cell_type": "code",
   "execution_count": 28,
   "id": "35e27ad8",
   "metadata": {},
   "outputs": [
    {
     "name": "stderr",
     "output_type": "stream",
     "text": [
      "C:\\Users\\91799\\anaconda3\\lib\\site-packages\\seaborn\\_decorators.py:36: FutureWarning: Pass the following variable as a keyword arg: x. From version 0.12, the only valid positional argument will be `data`, and passing other arguments without an explicit keyword will result in an error or misinterpretation.\n",
      "  warnings.warn(\n"
     ]
    },
    {
     "data": {
      "image/png": "[encoded data removed]",
      "text/plain": [
       "<Figure size 864x648 with 1 Axes>"
      ]
     },
     "metadata": {
      "needs_background": "light"
     },
     "output_type": "display_data"
    }
   ],
   "source": [
    "plt.figure(figsize=(12,9))\n",
    "plt.title(\"Salary vs Gender\")\n",
    "sns.scatterplot(df[\"Salary\"],y=df[\"Gender\"],hue=df[\"Gender\"],s=30,palette=\"husl\")\n",
    "plt.show()"
   ]
  },
  {
   "cell_type": "code",
   "execution_count": 29,
   "id": "f7cea698",
   "metadata": {},
   "outputs": [
    {
     "name": "stderr",
     "output_type": "stream",
     "text": [
      "C:\\Users\\91799\\anaconda3\\lib\\site-packages\\seaborn\\_decorators.py:36: FutureWarning: Pass the following variable as a keyword arg: x. From version 0.12, the only valid positional argument will be `data`, and passing other arguments without an explicit keyword will result in an error or misinterpretation.\n",
      "  warnings.warn(\n"
     ]
    },
    {
     "data": {
      "image/png": "[encoded data removed]",
      "text/plain": [
       "<Figure size 864x648 with 1 Axes>"
      ]
     },
     "metadata": {
      "needs_background": "light"
     },
     "output_type": "display_data"
    }
   ],
   "source": [
    "plt.figure(figsize=(12,9))\n",
    "plt.title(\"Age in Company (Years) vs Gender\")\n",
    "sns.scatterplot(df[\"Age in Company (Years)\"],y=df[\"Gender\"],hue=df[\"Gender\"],s=30,palette=\"husl\")\n",
    "plt.show()"
   ]
  },
  {
   "cell_type": "code",
   "execution_count": 30,
   "id": "d9cff7da",
   "metadata": {},
   "outputs": [
    {
     "name": "stderr",
     "output_type": "stream",
     "text": [
      "C:\\Users\\91799\\anaconda3\\lib\\site-packages\\seaborn\\_decorators.py:36: FutureWarning: Pass the following variable as a keyword arg: x. From version 0.12, the only valid positional argument will be `data`, and passing other arguments without an explicit keyword will result in an error or misinterpretation.\n",
      "  warnings.warn(\n"
     ]
    },
    {
     "data": {
      "image/png": "[encoded data removed]",
      "text/plain": [
       "<Figure size 864x648 with 1 Axes>"
      ]
     },
     "metadata": {
      "needs_background": "light"
     },
     "output_type": "display_data"
    }
   ],
   "source": [
    "plt.figure(figsize=(12,9))\n",
    "plt.title(\"Region vs Gender\")\n",
    "sns.scatterplot(df[\"Region\"],y=df[\"Gender\"],hue=df[\"Gender\"],s=30,palette=\"husl\")\n",
    "plt.show()"
   ]
  },
  {
   "cell_type": "code",
   "execution_count": 31,
   "id": "54ed5a45",
   "metadata": {},
   "outputs": [
    {
     "name": "stderr",
     "output_type": "stream",
     "text": [
      "C:\\Users\\91799\\anaconda3\\lib\\site-packages\\seaborn\\_decorators.py:36: FutureWarning: Pass the following variable as a keyword arg: x. From version 0.12, the only valid positional argument will be `data`, and passing other arguments without an explicit keyword will result in an error or misinterpretation.\n",
      "  warnings.warn(\n"
     ]
    },
    {
     "data": {
      "image/png": "[encoded data removed]",
      "text/plain": [
       "<Figure size 864x648 with 1 Axes>"
      ]
     },
     "metadata": {
      "needs_background": "light"
     },
     "output_type": "display_data"
    }
   ],
   "source": [
    "plt.figure(figsize=(12,9))\n",
    "plt.title(\"Region vs Salary\")\n",
    "sns.scatterplot(df[\"Region\"],y=df[\"Salary\"],hue=df[\"Salary\"],s=30,palette=\"husl\")\n",
    "plt.show()"
   ]
  },
  {
   "cell_type": "code",
   "execution_count": 32,
   "id": "591dd448",
   "metadata": {},
   "outputs": [
    {
     "name": "stderr",
     "output_type": "stream",
     "text": [
      "<ipython-input-32-3520d4ee1b5c>:2: SettingWithCopyWarning: \n",
      "A value is trying to be set on a copy of a slice from a DataFrame.\n",
      "Try using .loc[row_indexer,col_indexer] = value instead\n",
      "\n",
      "See the caveats in the documentation: https://pandas.pydata.org/pandas-docs/stable/user_guide/indexing.html#returning-a-view-versus-a-copy\n",
      "  df['Gender'] = LabelEncoder().fit_transform(df['Gender'])\n"
     ]
    },
    {
     "data": {
      "text/plain": [
       "0    24498\n",
       "1    24116\n",
       "Name: Gender, dtype: int64"
      ]
     },
     "execution_count": 32,
     "metadata": {},
     "output_type": "execute_result"
    }
   ],
   "source": [
    "from sklearn.preprocessing import LabelEncoder\n",
    "df['Gender'] = LabelEncoder().fit_transform(df['Gender'])\n",
    "df['Gender'].value_counts()"
   ]
  },
  {
   "cell_type": "code",
   "execution_count": 33,
   "id": "bf640ada",
   "metadata": {},
   "outputs": [
    {
     "name": "stderr",
     "output_type": "stream",
     "text": [
      "<ipython-input-33-a10c971ce6f4>:2: SettingWithCopyWarning: \n",
      "A value is trying to be set on a copy of a slice from a DataFrame.\n",
      "Try using .loc[row_indexer,col_indexer] = value instead\n",
      "\n",
      "See the caveats in the documentation: https://pandas.pydata.org/pandas-docs/stable/user_guide/indexing.html#returning-a-view-versus-a-copy\n",
      "  df['Name Prefix'] = LabelEncoder().fit_transform(df['Name Prefix'])\n"
     ]
    },
    {
     "data": {
      "text/plain": [
       "3    16877\n",
       "5    10877\n",
       "4     8141\n",
       "2     5099\n",
       "1     2725\n",
       "0     2469\n",
       "6     2426\n",
       "Name: Name Prefix, dtype: int64"
      ]
     },
     "execution_count": 33,
     "metadata": {},
     "output_type": "execute_result"
    }
   ],
   "source": [
    "from sklearn.preprocessing import LabelEncoder\n",
    "df['Name Prefix'] = LabelEncoder().fit_transform(df['Name Prefix'])\n",
    "df['Name Prefix'].value_counts()"
   ]
  },
  {
   "cell_type": "code",
   "execution_count": 34,
   "id": "c90cde7c",
   "metadata": {},
   "outputs": [
    {
     "name": "stderr",
     "output_type": "stream",
     "text": [
      "<ipython-input-34-d82c4173ab86>:2: SettingWithCopyWarning: \n",
      "A value is trying to be set on a copy of a slice from a DataFrame.\n",
      "Try using .loc[row_indexer,col_indexer] = value instead\n",
      "\n",
      "See the caveats in the documentation: https://pandas.pydata.org/pandas-docs/stable/user_guide/indexing.html#returning-a-view-versus-a-copy\n",
      "  df['First Name'] = LabelEncoder().fit_transform(df['First Name'])\n"
     ]
    },
    {
     "data": {
      "text/plain": [
       "134     40\n",
       "735     40\n",
       "14      40\n",
       "2962    39\n",
       "4081    39\n",
       "        ..\n",
       "2924     1\n",
       "1931     1\n",
       "4785     1\n",
       "1646     1\n",
       "2613     1\n",
       "Name: First Name, Length: 5152, dtype: int64"
      ]
     },
     "execution_count": 34,
     "metadata": {},
     "output_type": "execute_result"
    }
   ],
   "source": [
    "from sklearn.preprocessing import LabelEncoder\n",
    "df['First Name'] = LabelEncoder().fit_transform(df['First Name'])\n",
    "df['First Name'].value_counts()"
   ]
  },
  {
   "cell_type": "code",
   "execution_count": 35,
   "id": "d6996d9b",
   "metadata": {},
   "outputs": [
    {
     "name": "stderr",
     "output_type": "stream",
     "text": [
      "<ipython-input-35-b9f022dab64f>:2: SettingWithCopyWarning: \n",
      "A value is trying to be set on a copy of a slice from a DataFrame.\n",
      "Try using .loc[row_indexer,col_indexer] = value instead\n",
      "\n",
      "See the caveats in the documentation: https://pandas.pydata.org/pandas-docs/stable/user_guide/indexing.html#returning-a-view-versus-a-copy\n",
      "  df['Country'] = LabelEncoder().fit_transform(df['Country'])\n"
     ]
    },
    {
     "data": {
      "text/plain": [
       "1093    566\n",
       "1298    560\n",
       "2314    559\n",
       "1478    452\n",
       "1635    424\n",
       "       ... \n",
       "1335      1\n",
       "1271      1\n",
       "2184      1\n",
       "2312      1\n",
       "0         1\n",
       "Name: Country, Length: 2438, dtype: int64"
      ]
     },
     "execution_count": 35,
     "metadata": {},
     "output_type": "execute_result"
    }
   ],
   "source": [
    "from sklearn.preprocessing import LabelEncoder\n",
    "df['Country'] = LabelEncoder().fit_transform(df['Country'])\n",
    "df['Country'].value_counts()"
   ]
  },
  {
   "cell_type": "code",
   "execution_count": 36,
   "id": "d0ec15e2",
   "metadata": {},
   "outputs": [
    {
     "name": "stderr",
     "output_type": "stream",
     "text": [
      "<ipython-input-36-7a6f8b42f56c>:2: SettingWithCopyWarning: \n",
      "A value is trying to be set on a copy of a slice from a DataFrame.\n",
      "Try using .loc[row_indexer,col_indexer] = value instead\n",
      "\n",
      "See the caveats in the documentation: https://pandas.pydata.org/pandas-docs/stable/user_guide/indexing.html#returning-a-view-versus-a-copy\n",
      "  df['Region'] = LabelEncoder().fit_transform(df['Region'])\n"
     ]
    },
    {
     "data": {
      "text/plain": [
       "2    18138\n",
       "0    13279\n",
       "3     8638\n",
       "1     8559\n",
       "Name: Region, dtype: int64"
      ]
     },
     "execution_count": 36,
     "metadata": {},
     "output_type": "execute_result"
    }
   ],
   "source": [
    "from sklearn.preprocessing import LabelEncoder\n",
    "df['Region'] = LabelEncoder().fit_transform(df['Region'])\n",
    "df['Region'].value_counts()"
   ]
  },
  {
   "cell_type": "code",
   "execution_count": 37,
   "id": "d44014e9",
   "metadata": {},
   "outputs": [
    {
     "data": {
      "text/plain": [
       "Emp ID                     int64\n",
       "Name Prefix                int32\n",
       "First Name                 int32\n",
       "Gender                     int32\n",
       "Age in Yrs                 int64\n",
       "Date of Joining           object\n",
       "Age in Company (Years)     int64\n",
       "Country                    int32\n",
       "Region                     int32\n",
       "Salary                     int64\n",
       "dtype: object"
      ]
     },
     "execution_count": 37,
     "metadata": {},
     "output_type": "execute_result"
    }
   ],
   "source": [
    "df.dtypes"
   ]
  },
  {
   "cell_type": "code",
   "execution_count": 38,
   "id": "1423a5d6",
   "metadata": {},
   "outputs": [
    {
     "name": "stderr",
     "output_type": "stream",
     "text": [
      "<ipython-input-38-52b3270ebf25>:1: SettingWithCopyWarning: \n",
      "A value is trying to be set on a copy of a slice from a DataFrame.\n",
      "Try using .loc[row_indexer,col_indexer] = value instead\n",
      "\n",
      "See the caveats in the documentation: https://pandas.pydata.org/pandas-docs/stable/user_guide/indexing.html#returning-a-view-versus-a-copy\n",
      "  df['Date of Joining'] = pd.to_datetime(df['Date of Joining'])\n"
     ]
    },
    {
     "data": {
      "text/plain": [
       "0       2014-09-09\n",
       "1       2011-08-02\n",
       "2       2012-04-01\n",
       "3       1998-03-19\n",
       "4       2010-01-04\n",
       "           ...    \n",
       "49994   2006-06-10\n",
       "49995   2017-06-22\n",
       "49996   2007-10-28\n",
       "49997   2012-12-25\n",
       "49998   2013-10-06\n",
       "Name: Date of Joining, Length: 48614, dtype: datetime64[ns]"
      ]
     },
     "execution_count": 38,
     "metadata": {},
     "output_type": "execute_result"
    }
   ],
   "source": [
    "df['Date of Joining'] = pd.to_datetime(df['Date of Joining'])\n",
    "df['Date of Joining'] "
   ]
  },
  {
   "cell_type": "code",
   "execution_count": 39,
   "id": "ccc91ebe",
   "metadata": {},
   "outputs": [
    {
     "data": {
      "text/plain": [
       "0        2014\n",
       "1        2011\n",
       "2        2012\n",
       "3        1998\n",
       "4        2010\n",
       "         ... \n",
       "49994    2006\n",
       "49995    2017\n",
       "49996    2007\n",
       "49997    2012\n",
       "49998    2013\n",
       "Name: Date of Joining, Length: 48614, dtype: int64"
      ]
     },
     "execution_count": 39,
     "metadata": {},
     "output_type": "execute_result"
    }
   ],
   "source": [
    "df['Date of Joining'] .dt.year"
   ]
  },
  {
   "cell_type": "code",
   "execution_count": 40,
   "id": "78f2691f",
   "metadata": {},
   "outputs": [
    {
     "data": {
      "text/plain": [
       "0         9\n",
       "1         8\n",
       "2         4\n",
       "3         3\n",
       "4         1\n",
       "         ..\n",
       "49994     6\n",
       "49995     6\n",
       "49996    10\n",
       "49997    12\n",
       "49998    10\n",
       "Name: Date of Joining, Length: 48614, dtype: int64"
      ]
     },
     "execution_count": 40,
     "metadata": {},
     "output_type": "execute_result"
    }
   ],
   "source": [
    "df['Date of Joining'] .dt.month"
   ]
  },
  {
   "cell_type": "code",
   "execution_count": 41,
   "id": "f184d180",
   "metadata": {},
   "outputs": [
    {
     "data": {
      "text/plain": [
       "0         9\n",
       "1         2\n",
       "2         1\n",
       "3        19\n",
       "4         4\n",
       "         ..\n",
       "49994    10\n",
       "49995    22\n",
       "49996    28\n",
       "49997    25\n",
       "49998     6\n",
       "Name: Date of Joining, Length: 48614, dtype: int64"
      ]
     },
     "execution_count": 41,
     "metadata": {},
     "output_type": "execute_result"
    }
   ],
   "source": [
    "df['Date of Joining'] .dt.day"
   ]
  },
  {
   "cell_type": "code",
   "execution_count": 42,
   "id": "417b001a",
   "metadata": {},
   "outputs": [
    {
     "name": "stderr",
     "output_type": "stream",
     "text": [
      "<ipython-input-42-36c07b375502>:1: SettingWithCopyWarning: \n",
      "A value is trying to be set on a copy of a slice from a DataFrame.\n",
      "Try using .loc[row_indexer,col_indexer] = value instead\n",
      "\n",
      "See the caveats in the documentation: https://pandas.pydata.org/pandas-docs/stable/user_guide/indexing.html#returning-a-view-versus-a-copy\n",
      "  df['year']=df['Date of Joining'] .dt.year\n",
      "<ipython-input-42-36c07b375502>:2: SettingWithCopyWarning: \n",
      "A value is trying to be set on a copy of a slice from a DataFrame.\n",
      "Try using .loc[row_indexer,col_indexer] = value instead\n",
      "\n",
      "See the caveats in the documentation: https://pandas.pydata.org/pandas-docs/stable/user_guide/indexing.html#returning-a-view-versus-a-copy\n",
      "  df['month']=df['Date of Joining'] .dt.month\n",
      "<ipython-input-42-36c07b375502>:3: SettingWithCopyWarning: \n",
      "A value is trying to be set on a copy of a slice from a DataFrame.\n",
      "Try using .loc[row_indexer,col_indexer] = value instead\n",
      "\n",
      "See the caveats in the documentation: https://pandas.pydata.org/pandas-docs/stable/user_guide/indexing.html#returning-a-view-versus-a-copy\n",
      "  df['day']=df['Date of Joining'] .dt.day\n"
     ]
    },
    {
     "data": {
      "text/html": [
       "<div>\n",
       "<style scoped>\n",
       "    .dataframe tbody tr th:only-of-type {\n",
       "        vertical-align: middle;\n",
       "    }\n",
       "\n",
       "    .dataframe tbody tr th {\n",
       "        vertical-align: top;\n",
       "    }\n",
       "\n",
       "    .dataframe thead th {\n",
       "        text-align: right;\n",
       "    }\n",
       "</style>\n",
       "<table border=\"1\" class=\"dataframe\">\n",
       "  <thead>\n",
       "    <tr style=\"text-align: right;\">\n",
       "      <th></th>\n",
       "      <th>Emp ID</th>\n",
       "      <th>Name Prefix</th>\n",
       "      <th>First Name</th>\n",
       "      <th>Gender</th>\n",
       "      <th>Age in Yrs</th>\n",
       "      <th>Date of Joining</th>\n",
       "      <th>Age in Company (Years)</th>\n",
       "      <th>Country</th>\n",
       "      <th>Region</th>\n",
       "      <th>Salary</th>\n",
       "      <th>year</th>\n",
       "      <th>month</th>\n",
       "      <th>day</th>\n",
       "    </tr>\n",
       "  </thead>\n",
       "  <tbody>\n",
       "    <tr>\n",
       "      <th>0</th>\n",
       "      <td>857211</td>\n",
       "      <td>5</td>\n",
       "      <td>1947</td>\n",
       "      <td>0</td>\n",
       "      <td>24</td>\n",
       "      <td>2014-09-09</td>\n",
       "      <td>2</td>\n",
       "      <td>464</td>\n",
       "      <td>2</td>\n",
       "      <td>168991</td>\n",
       "      <td>2014</td>\n",
       "      <td>9</td>\n",
       "      <td>9</td>\n",
       "    </tr>\n",
       "    <tr>\n",
       "      <th>1</th>\n",
       "      <td>514341</td>\n",
       "      <td>3</td>\n",
       "      <td>275</td>\n",
       "      <td>1</td>\n",
       "      <td>27</td>\n",
       "      <td>2011-08-02</td>\n",
       "      <td>5</td>\n",
       "      <td>1970</td>\n",
       "      <td>2</td>\n",
       "      <td>53504</td>\n",
       "      <td>2011</td>\n",
       "      <td>8</td>\n",
       "      <td>2</td>\n",
       "    </tr>\n",
       "    <tr>\n",
       "      <th>2</th>\n",
       "      <td>314598</td>\n",
       "      <td>6</td>\n",
       "      <td>4278</td>\n",
       "      <td>1</td>\n",
       "      <td>36</td>\n",
       "      <td>2012-04-01</td>\n",
       "      <td>5</td>\n",
       "      <td>1093</td>\n",
       "      <td>1</td>\n",
       "      <td>158859</td>\n",
       "      <td>2012</td>\n",
       "      <td>4</td>\n",
       "      <td>1</td>\n",
       "    </tr>\n",
       "    <tr>\n",
       "      <th>3</th>\n",
       "      <td>987773</td>\n",
       "      <td>3</td>\n",
       "      <td>81</td>\n",
       "      <td>1</td>\n",
       "      <td>43</td>\n",
       "      <td>1998-03-19</td>\n",
       "      <td>19</td>\n",
       "      <td>1441</td>\n",
       "      <td>2</td>\n",
       "      <td>76105</td>\n",
       "      <td>1998</td>\n",
       "      <td>3</td>\n",
       "      <td>19</td>\n",
       "    </tr>\n",
       "    <tr>\n",
       "      <th>4</th>\n",
       "      <td>690850</td>\n",
       "      <td>3</td>\n",
       "      <td>4004</td>\n",
       "      <td>1</td>\n",
       "      <td>50</td>\n",
       "      <td>2010-01-04</td>\n",
       "      <td>7</td>\n",
       "      <td>900</td>\n",
       "      <td>0</td>\n",
       "      <td>134436</td>\n",
       "      <td>2010</td>\n",
       "      <td>1</td>\n",
       "      <td>4</td>\n",
       "    </tr>\n",
       "    <tr>\n",
       "      <th>...</th>\n",
       "      <td>...</td>\n",
       "      <td>...</td>\n",
       "      <td>...</td>\n",
       "      <td>...</td>\n",
       "      <td>...</td>\n",
       "      <td>...</td>\n",
       "      <td>...</td>\n",
       "      <td>...</td>\n",
       "      <td>...</td>\n",
       "      <td>...</td>\n",
       "      <td>...</td>\n",
       "      <td>...</td>\n",
       "      <td>...</td>\n",
       "    </tr>\n",
       "    <tr>\n",
       "      <th>49994</th>\n",
       "      <td>174392</td>\n",
       "      <td>5</td>\n",
       "      <td>3208</td>\n",
       "      <td>0</td>\n",
       "      <td>55</td>\n",
       "      <td>2006-06-10</td>\n",
       "      <td>11</td>\n",
       "      <td>308</td>\n",
       "      <td>2</td>\n",
       "      <td>173154</td>\n",
       "      <td>2006</td>\n",
       "      <td>6</td>\n",
       "      <td>10</td>\n",
       "    </tr>\n",
       "    <tr>\n",
       "      <th>49995</th>\n",
       "      <td>955700</td>\n",
       "      <td>5</td>\n",
       "      <td>4202</td>\n",
       "      <td>0</td>\n",
       "      <td>36</td>\n",
       "      <td>2017-06-22</td>\n",
       "      <td>1</td>\n",
       "      <td>801</td>\n",
       "      <td>0</td>\n",
       "      <td>111738</td>\n",
       "      <td>2017</td>\n",
       "      <td>6</td>\n",
       "      <td>22</td>\n",
       "    </tr>\n",
       "    <tr>\n",
       "      <th>49996</th>\n",
       "      <td>811811</td>\n",
       "      <td>5</td>\n",
       "      <td>4150</td>\n",
       "      <td>0</td>\n",
       "      <td>41</td>\n",
       "      <td>2007-10-28</td>\n",
       "      <td>9</td>\n",
       "      <td>1953</td>\n",
       "      <td>0</td>\n",
       "      <td>191991</td>\n",
       "      <td>2007</td>\n",
       "      <td>10</td>\n",
       "      <td>28</td>\n",
       "    </tr>\n",
       "    <tr>\n",
       "      <th>49997</th>\n",
       "      <td>365602</td>\n",
       "      <td>5</td>\n",
       "      <td>2507</td>\n",
       "      <td>0</td>\n",
       "      <td>37</td>\n",
       "      <td>2012-12-25</td>\n",
       "      <td>4</td>\n",
       "      <td>1431</td>\n",
       "      <td>1</td>\n",
       "      <td>173216</td>\n",
       "      <td>2012</td>\n",
       "      <td>12</td>\n",
       "      <td>25</td>\n",
       "    </tr>\n",
       "    <tr>\n",
       "      <th>49998</th>\n",
       "      <td>504521</td>\n",
       "      <td>5</td>\n",
       "      <td>971</td>\n",
       "      <td>0</td>\n",
       "      <td>38</td>\n",
       "      <td>2013-10-06</td>\n",
       "      <td>3</td>\n",
       "      <td>629</td>\n",
       "      <td>2</td>\n",
       "      <td>153592</td>\n",
       "      <td>2013</td>\n",
       "      <td>10</td>\n",
       "      <td>6</td>\n",
       "    </tr>\n",
       "  </tbody>\n",
       "</table>\n",
       "<p>48614 rows × 13 columns</p>\n",
       "</div>"
      ],
      "text/plain": [
       "       Emp ID  Name Prefix  First Name  Gender  Age in Yrs Date of Joining  \\\n",
       "0      857211            5        1947       0          24      2014-09-09   \n",
       "1      514341            3         275       1          27      2011-08-02   \n",
       "2      314598            6        4278       1          36      2012-04-01   \n",
       "3      987773            3          81       1          43      1998-03-19   \n",
       "4      690850            3        4004       1          50      2010-01-04   \n",
       "...       ...          ...         ...     ...         ...             ...   \n",
       "49994  174392            5        3208       0          55      2006-06-10   \n",
       "49995  955700            5        4202       0          36      2017-06-22   \n",
       "49996  811811            5        4150       0          41      2007-10-28   \n",
       "49997  365602            5        2507       0          37      2012-12-25   \n",
       "49998  504521            5         971       0          38      2013-10-06   \n",
       "\n",
       "       Age in Company (Years)  Country  Region  Salary  year  month  day  \n",
       "0                           2      464       2  168991  2014      9    9  \n",
       "1                           5     1970       2   53504  2011      8    2  \n",
       "2                           5     1093       1  158859  2012      4    1  \n",
       "3                          19     1441       2   76105  1998      3   19  \n",
       "4                           7      900       0  134436  2010      1    4  \n",
       "...                       ...      ...     ...     ...   ...    ...  ...  \n",
       "49994                      11      308       2  173154  2006      6   10  \n",
       "49995                       1      801       0  111738  2017      6   22  \n",
       "49996                       9     1953       0  191991  2007     10   28  \n",
       "49997                       4     1431       1  173216  2012     12   25  \n",
       "49998                       3      629       2  153592  2013     10    6  \n",
       "\n",
       "[48614 rows x 13 columns]"
      ]
     },
     "execution_count": 42,
     "metadata": {},
     "output_type": "execute_result"
    }
   ],
   "source": [
    "df['year']=df['Date of Joining'] .dt.year\n",
    "df['month']=df['Date of Joining'] .dt.month\n",
    "df['day']=df['Date of Joining'] .dt.day\n",
    "df"
   ]
  },
  {
   "cell_type": "code",
   "execution_count": 43,
   "id": "b37bd77d",
   "metadata": {},
   "outputs": [
    {
     "data": {
      "text/plain": [
       "Emp ID                             int64\n",
       "Name Prefix                        int32\n",
       "First Name                         int32\n",
       "Gender                             int32\n",
       "Age in Yrs                         int64\n",
       "Date of Joining           datetime64[ns]\n",
       "Age in Company (Years)             int64\n",
       "Country                            int32\n",
       "Region                             int32\n",
       "Salary                             int64\n",
       "year                               int64\n",
       "month                              int64\n",
       "day                                int64\n",
       "dtype: object"
      ]
     },
     "execution_count": 43,
     "metadata": {},
     "output_type": "execute_result"
    }
   ],
   "source": [
    "df.dtypes"
   ]
  },
  {
   "cell_type": "code",
   "execution_count": 44,
   "id": "1b3418f4",
   "metadata": {},
   "outputs": [
    {
     "name": "stderr",
     "output_type": "stream",
     "text": [
      "C:\\Users\\91799\\anaconda3\\lib\\site-packages\\pandas\\core\\frame.py:4308: SettingWithCopyWarning: \n",
      "A value is trying to be set on a copy of a slice from a DataFrame\n",
      "\n",
      "See the caveats in the documentation: https://pandas.pydata.org/pandas-docs/stable/user_guide/indexing.html#returning-a-view-versus-a-copy\n",
      "  return super().drop(\n"
     ]
    }
   ],
   "source": [
    "df.drop(columns=[\"Date of Joining\"],axis=1,inplace=True)"
   ]
  },
  {
   "cell_type": "markdown",
   "id": "3f9e1634",
   "metadata": {},
   "source": [
    "Data have a  date column, that column splited for the further working "
   ]
  },
  {
   "cell_type": "code",
   "execution_count": 45,
   "id": "de997049",
   "metadata": {},
   "outputs": [
    {
     "data": {
      "text/plain": [
       "Emp ID                    int64\n",
       "Name Prefix               int32\n",
       "First Name                int32\n",
       "Gender                    int32\n",
       "Age in Yrs                int64\n",
       "Age in Company (Years)    int64\n",
       "Country                   int32\n",
       "Region                    int32\n",
       "Salary                    int64\n",
       "year                      int64\n",
       "month                     int64\n",
       "day                       int64\n",
       "dtype: object"
      ]
     },
     "execution_count": 45,
     "metadata": {},
     "output_type": "execute_result"
    }
   ],
   "source": [
    "df.dtypes"
   ]
  },
  {
   "cell_type": "markdown",
   "id": "2e47085f",
   "metadata": {},
   "source": [
    "### outliers handiling"
   ]
  },
  {
   "cell_type": "code",
   "execution_count": 46,
   "id": "5fd0ba33",
   "metadata": {},
   "outputs": [
    {
     "data": {
      "image/png": "[encoded data removed]",
      "text/plain": [
       "<Figure size 432x288 with 1 Axes>"
      ]
     },
     "metadata": {
      "needs_background": "light"
     },
     "output_type": "display_data"
    },
    {
     "name": "stdout",
     "output_type": "stream",
     "text": [
      "Q1:  333251.0 \n",
      "Q2:  556747.0 \n",
      "Q3:  777397.0\n",
      "IQR:  444146.0\n",
      "Lower limit is :  -332968.0\n",
      "Upper limit is :  1443616.0\n",
      "Outliers in the fare feature are :  []\n"
     ]
    },
    {
     "name": "stderr",
     "output_type": "stream",
     "text": [
      "C:\\Users\\91799\\anaconda3\\lib\\site-packages\\pandas\\core\\frame.py:4308: SettingWithCopyWarning: \n",
      "A value is trying to be set on a copy of a slice from a DataFrame\n",
      "\n",
      "See the caveats in the documentation: https://pandas.pydata.org/pandas-docs/stable/user_guide/indexing.html#returning-a-view-versus-a-copy\n",
      "  return super().drop(\n"
     ]
    }
   ],
   "source": [
    "plt.boxplot(df['Emp ID'])\n",
    "plt.show()\n",
    "\n",
    "Q1 = np.percentile(df['Emp ID'],25,interpolation='midpoint')\n",
    "Q2 = np.percentile(df['Emp ID'],50,interpolation='midpoint')\n",
    "Q3 = np.percentile(df['Emp ID'],75,interpolation='midpoint')\n",
    "print('Q1: ',Q1,'\\nQ2: ',Q2,'\\nQ3: ',Q3)\n",
    "\n",
    "IQR = Q3 - Q1\n",
    "print('IQR: ',IQR)\n",
    "\n",
    "low_lm = Q1-1.5*IQR\n",
    "upp_lm = Q3+1.5*IQR\n",
    "print(\"Lower limit is : \",low_lm)\n",
    "print(\"Upper limit is : \",upp_lm)\n",
    "\n",
    "outliers = []\n",
    "for i in df['Emp ID']:\n",
    "  if((i>upp_lm)or(i<low_lm)):\n",
    "    outliers.append(i)\n",
    "\n",
    "print(\"Outliers in the fare feature are : \",outliers)\n",
    "\n",
    "indx1 = df['Emp ID']>upp_lm\n",
    "outlier_index = df.loc[indx1].index\n",
    "outlier_index\n",
    "\n",
    "df.drop(outlier_index, inplace=True)"
   ]
  },
  {
   "cell_type": "code",
   "execution_count": 47,
   "id": "02204b8e",
   "metadata": {},
   "outputs": [
    {
     "data": {
      "image/png": "[encoded data removed]",
      "text/plain": [
       "<Figure size 432x288 with 1 Axes>"
      ]
     },
     "metadata": {
      "needs_background": "light"
     },
     "output_type": "display_data"
    }
   ],
   "source": [
    "plt.boxplot(df['Name Prefix'])\n",
    "plt.show()"
   ]
  },
  {
   "cell_type": "code",
   "execution_count": 48,
   "id": "ecc292bb",
   "metadata": {},
   "outputs": [
    {
     "data": {
      "image/png": "[encoded data removed]",
      "text/plain": [
       "<Figure size 432x288 with 1 Axes>"
      ]
     },
     "metadata": {
      "needs_background": "light"
     },
     "output_type": "display_data"
    }
   ],
   "source": [
    "plt.boxplot(df['First Name'])\n",
    "plt.show()"
   ]
  },
  {
   "cell_type": "code",
   "execution_count": 49,
   "id": "973fa6b7",
   "metadata": {},
   "outputs": [
    {
     "data": {
      "image/png": "[encoded data removed]",
      "text/plain": [
       "<Figure size 432x288 with 1 Axes>"
      ]
     },
     "metadata": {
      "needs_background": "light"
     },
     "output_type": "display_data"
    }
   ],
   "source": [
    "plt.boxplot(df['Gender'])\n",
    "plt.show()"
   ]
  },
  {
   "cell_type": "code",
   "execution_count": 50,
   "id": "a6c00bc3",
   "metadata": {},
   "outputs": [
    {
     "data": {
      "image/png": "[encoded data removed]",
      "text/plain": [
       "<Figure size 432x288 with 1 Axes>"
      ]
     },
     "metadata": {
      "needs_background": "light"
     },
     "output_type": "display_data"
    }
   ],
   "source": [
    "plt.boxplot(df['Age in Yrs'])\n",
    "plt.show()"
   ]
  },
  {
   "cell_type": "code",
   "execution_count": 51,
   "id": "13214391",
   "metadata": {},
   "outputs": [
    {
     "data": {
      "image/png": "[encoded data removed]",
      "text/plain": [
       "<Figure size 432x288 with 1 Axes>"
      ]
     },
     "metadata": {
      "needs_background": "light"
     },
     "output_type": "display_data"
    }
   ],
   "source": [
    "plt.boxplot(df['Age in Company (Years)'])\n",
    "plt.show()"
   ]
  },
  {
   "cell_type": "code",
   "execution_count": 52,
   "id": "83545609",
   "metadata": {},
   "outputs": [
    {
     "name": "stdout",
     "output_type": "stream",
     "text": [
      "Q1:  2.0 \n",
      "Q2:  7.0 \n",
      "Q3:  14.0\n",
      "IQR:  12.0\n",
      "Lower limit is :  -16.0\n",
      "Upper limit is :  32.0\n",
      "Outliers in the fare feature are :  [35, 33, 37, 35, 33, 34, 36, 36, 37, 33, 33, 33, 36, 33, 33, 33, 36, 38, 35, 33, 34, 34, 37, 34, 35, 37, 35, 34, 34, 35, 34, 33, 34, 35, 33, 35, 36, 34, 37, 35, 35, 35, 34, 34, 35, 37, 35, 38, 33, 34, 34, 33, 33, 33, 36, 35, 35, 34, 35, 35, 35, 34, 35, 33, 33, 33, 33, 34, 36, 36, 33, 35, 34, 36, 33, 36, 34, 33, 33, 33, 38, 33, 35, 33, 35, 33, 33, 35, 35, 34, 35, 34, 34, 33, 33, 34, 35, 37, 36, 33, 37, 34, 35, 34, 33, 34, 35, 37, 34, 34, 37, 38, 34, 33, 37, 38, 35, 34, 36, 35, 35, 34, 34, 34, 35, 33, 34, 34, 34, 35, 34, 34, 36, 34, 33, 34, 35, 36, 33, 36, 33, 33, 35, 34, 36, 34, 33, 35, 35, 35, 33, 33, 35, 36, 36, 33, 35, 33, 33, 34, 35, 34, 33, 38, 33, 33, 34, 35, 34, 33, 35, 33, 36, 33, 36, 35, 36, 33, 33, 33, 34, 34, 33, 37, 35, 34, 37, 35, 33, 37, 36, 35, 33, 34, 34, 38, 36, 34, 35, 37, 33, 36, 33, 35, 34, 34, 36, 34, 37, 35, 35, 34, 36, 33, 34, 33, 34, 34, 36, 34, 34, 34, 33, 33, 35, 37, 36, 34, 35, 37, 34, 34, 34, 33, 34, 35, 33, 34, 35, 36, 33, 35, 35, 34, 35, 35, 33, 36, 38, 38, 35, 34, 35, 35, 33, 34, 34, 36, 34, 33, 35, 33, 38, 37, 33, 36, 36, 36, 37, 33, 33, 36, 34, 35, 37, 35, 33, 36, 33, 37, 35, 33, 36, 34, 36, 34, 33, 34, 33, 34, 34, 33, 35, 34, 33, 33, 33, 35, 36, 34, 36, 34, 34, 33, 34, 33, 38, 37, 36, 36, 36, 35, 34, 33, 33, 36, 35, 34, 36, 33, 34, 34, 35, 33, 35, 36, 35, 34, 34, 36, 34, 36, 35, 33, 38, 34, 35, 35, 36, 34, 34, 33, 35, 34, 34, 34, 36, 33, 36, 33, 36, 34, 35, 35, 33, 33, 33, 35, 34, 35, 36, 38, 35, 33, 36, 34, 36, 35, 33, 34, 36, 37, 34, 35, 34, 34, 35, 34, 33, 34, 37, 36, 35, 36, 36, 33, 34, 33, 34, 35, 36, 35, 35, 33, 33, 33, 34, 35, 36, 34, 33, 34, 35, 33, 33, 33, 33, 35, 33, 36, 34, 33, 33, 38, 35, 34, 36, 33, 34, 35, 36, 33, 34, 34, 33, 34, 35, 35, 35, 37, 38, 34, 36, 34, 33, 33, 35, 37, 34, 35, 33, 34, 35, 33, 34, 36, 37, 33, 34, 37, 34, 37, 34, 35, 33, 35, 33, 36, 34, 33, 34, 33, 35, 35, 33, 33, 34, 34, 37, 35, 36, 34, 34, 33, 38, 34, 33, 34, 34, 36, 33, 35, 33, 38, 37, 35, 35, 36, 33, 34, 36, 34, 34, 33, 37, 33, 33, 36, 33, 35, 37, 33, 34, 34, 34, 36, 34, 33, 35, 35, 36, 33, 35, 37, 35, 34, 36, 33, 33, 33, 37, 33, 34, 35, 33, 37, 33, 33, 33, 37, 33, 35, 34, 33, 33, 37, 35, 36, 35, 35, 34, 36, 35, 36, 33, 36, 34, 33, 33, 34, 37, 37, 38, 33, 34, 34, 36, 35, 34, 34, 34, 35, 33, 33, 34, 35, 33, 33, 33]\n"
     ]
    },
    {
     "name": "stderr",
     "output_type": "stream",
     "text": [
      "C:\\Users\\91799\\anaconda3\\lib\\site-packages\\pandas\\core\\frame.py:4308: SettingWithCopyWarning: \n",
      "A value is trying to be set on a copy of a slice from a DataFrame\n",
      "\n",
      "See the caveats in the documentation: https://pandas.pydata.org/pandas-docs/stable/user_guide/indexing.html#returning-a-view-versus-a-copy\n",
      "  return super().drop(\n"
     ]
    },
    {
     "data": {
      "image/png": "[encoded data removed]",
      "text/plain": [
       "<Figure size 432x288 with 1 Axes>"
      ]
     },
     "metadata": {
      "needs_background": "light"
     },
     "output_type": "display_data"
    }
   ],
   "source": [
    "Q1 = np.percentile(df['Age in Company (Years)'],25,interpolation='midpoint')\n",
    "Q2 = np.percentile(df['Age in Company (Years)'],50,interpolation='midpoint')\n",
    "Q3 = np.percentile(df['Age in Company (Years)'],75,interpolation='midpoint')\n",
    "print('Q1: ',Q1,'\\nQ2: ',Q2,'\\nQ3: ',Q3)\n",
    "\n",
    "IQR = Q3 - Q1\n",
    "print('IQR: ',IQR)\n",
    "\n",
    "low_lm = Q1-1.5*IQR\n",
    "upp_lm = Q3+1.5*IQR\n",
    "print(\"Lower limit is : \",low_lm)\n",
    "print(\"Upper limit is : \",upp_lm)\n",
    "\n",
    "outliers = []\n",
    "for i in df['Age in Company (Years)']:\n",
    "  if((i>upp_lm)or(i<low_lm)):\n",
    "    outliers.append(i)\n",
    "\n",
    "print(\"Outliers in the fare feature are : \",outliers)\n",
    "\n",
    "indx1 = df['Age in Company (Years)']>upp_lm\n",
    "outlier_index = df.loc[indx1].index\n",
    "outlier_index\n",
    "\n",
    "df.drop(outlier_index, inplace=True)\n",
    "\n",
    "plt.boxplot(df['Age in Company (Years)'])\n",
    "plt.show()"
   ]
  },
  {
   "cell_type": "code",
   "execution_count": 53,
   "id": "7456f2b3",
   "metadata": {},
   "outputs": [
    {
     "data": {
      "image/png": "[encoded data removed]",
      "text/plain": [
       "<Figure size 432x288 with 1 Axes>"
      ]
     },
     "metadata": {
      "needs_background": "light"
     },
     "output_type": "display_data"
    }
   ],
   "source": [
    "plt.boxplot(df['Country'])\n",
    "plt.show()"
   ]
  },
  {
   "cell_type": "code",
   "execution_count": 54,
   "id": "eab3cf71",
   "metadata": {},
   "outputs": [
    {
     "data": {
      "image/png": "[encoded data removed]",
      "text/plain": [
       "<Figure size 432x288 with 1 Axes>"
      ]
     },
     "metadata": {
      "needs_background": "light"
     },
     "output_type": "display_data"
    }
   ],
   "source": [
    "plt.boxplot(df['Region'])\n",
    "plt.show()"
   ]
  },
  {
   "cell_type": "code",
   "execution_count": 55,
   "id": "0d9dddbd",
   "metadata": {},
   "outputs": [
    {
     "data": {
      "image/png": "[encoded data removed]",
      "text/plain": [
       "<Figure size 432x288 with 1 Axes>"
      ]
     },
     "metadata": {
      "needs_background": "light"
     },
     "output_type": "display_data"
    }
   ],
   "source": [
    "plt.boxplot(df['Salary'])\n",
    "plt.show()"
   ]
  },
  {
   "cell_type": "code",
   "execution_count": 56,
   "id": "f5448fb5",
   "metadata": {},
   "outputs": [
    {
     "data": {
      "image/png": "[encoded data removed]",
      "text/plain": [
       "<Figure size 432x288 with 1 Axes>"
      ]
     },
     "metadata": {
      "needs_background": "light"
     },
     "output_type": "display_data"
    }
   ],
   "source": [
    "plt.boxplot(df['year'])\n",
    "plt.show()"
   ]
  },
  {
   "cell_type": "code",
   "execution_count": 57,
   "id": "116c427b",
   "metadata": {},
   "outputs": [
    {
     "name": "stdout",
     "output_type": "stream",
     "text": [
      "Q1:  2003.0 \n",
      "Q2:  2010.0 \n",
      "Q3:  2014.0\n",
      "IQR:  11.0\n",
      "Lower limit is :  1986.5\n",
      "Upper limit is :  2030.5\n",
      "Outliers in the fare feature are :  [1986, 1984, 1985, 1986, 1984, 1986, 1985, 1986, 1984, 1985, 1986, 1986, 1986, 1986, 1986, 1986, 1986, 1985, 1985, 1985, 1986, 1986, 1986, 1986, 1984, 1986, 1985, 1985, 1986, 1985, 1985, 1985, 1986, 1986, 1986, 1986, 1986, 1986, 1985, 1986, 1986, 1986, 1986, 1985, 1986, 1985, 1985, 1985, 1986, 1985, 1985, 1985, 1985, 1985, 1985, 1986, 1984, 1985, 1986, 1985, 1985, 1986, 1986, 1985, 1985, 1985, 1985, 1986, 1984, 1985, 1986, 1984, 1984, 1985, 1984, 1985, 1986, 1985, 1986, 1986, 1985, 1985, 1985, 1986, 1986, 1985, 1985, 1986, 1986, 1985, 1985, 1985, 1986, 1985, 1986, 1986, 1985, 1984, 1986, 1986, 1986, 1986, 1986, 1986, 1985, 1986, 1986, 1985, 1986, 1985, 1986, 1986, 1984, 1986, 1986, 1984, 1985, 1986, 1985, 1985, 1986, 1986, 1985, 1984, 1986, 1985, 1985, 1986, 1986, 1986, 1986, 1984, 1986, 1986, 1985, 1986, 1986, 1986, 1986, 1986, 1984, 1986, 1984, 1986, 1986, 1985, 1986, 1986, 1986, 1985, 1985, 1986, 1985, 1986, 1986, 1985, 1985, 1986, 1985, 1986, 1986, 1986, 1986, 1986, 1985, 1985, 1985, 1984, 1985, 1986, 1986, 1986, 1985, 1985, 1986, 1985, 1984, 1986, 1986, 1985, 1986, 1985, 1985, 1986, 1985, 1984, 1986, 1986, 1985, 1985, 1985, 1986, 1984, 1986, 1985, 1986, 1984, 1986, 1985, 1986, 1986, 1986, 1986, 1985, 1985, 1985, 1986, 1986, 1984, 1984, 1985, 1984, 1986, 1986, 1986, 1986, 1986, 1985, 1986, 1986, 1986, 1985, 1986, 1985, 1984, 1984, 1985, 1986, 1985, 1986, 1985, 1986, 1985, 1986, 1986, 1986, 1985, 1984, 1985, 1985, 1984, 1984, 1985, 1986, 1985, 1985, 1985, 1986, 1985, 1985, 1984, 1984, 1986, 1985, 1986, 1985, 1986, 1986, 1986, 1984, 1985, 1986, 1986, 1986, 1986, 1986, 1985, 1986, 1985, 1985, 1985, 1985, 1986, 1986, 1986, 1985, 1985, 1985, 1985, 1986, 1985, 1985, 1986, 1985, 1986, 1984, 1985, 1986, 1985, 1986, 1986, 1986, 1985, 1984, 1986, 1986, 1986, 1986, 1986, 1985, 1986, 1986, 1985, 1986, 1985, 1984, 1984, 1985, 1985, 1986, 1985, 1985, 1984, 1985, 1986, 1986, 1986, 1985, 1986, 1986, 1986, 1986, 1986, 1986, 1985, 1985, 1985, 1985, 1984, 1984, 1986, 1985, 1985, 1984, 1986, 1986, 1986, 1985, 1986, 1986, 1986, 1984, 1985, 1985, 1985, 1986, 1985, 1985, 1985, 1985, 1986, 1985, 1986, 1986, 1986, 1986, 1985, 1986, 1985, 1986, 1986, 1986, 1986, 1986, 1985, 1985, 1986, 1985, 1986, 1986, 1986, 1984, 1986, 1986, 1986, 1984, 1985, 1984, 1985, 1986, 1986, 1986, 1986, 1986, 1985, 1986, 1985, 1984, 1986, 1986, 1986, 1984, 1985, 1985, 1985, 1985, 1985, 1986, 1986, 1985, 1985, 1985, 1984, 1986, 1986, 1985, 1985, 1985, 1986, 1984, 1985, 1986, 1984, 1985, 1985, 1984, 1986, 1984, 1985, 1984, 1985, 1986, 1986, 1984, 1986, 1986, 1985, 1986, 1985, 1985, 1986, 1984, 1985, 1985, 1986, 1986, 1985, 1985, 1985, 1986, 1985, 1985, 1986, 1986, 1986, 1985, 1986, 1986, 1986, 1986, 1986, 1984, 1984, 1985, 1985, 1985, 1986, 1986, 1985, 1986, 1986, 1984, 1985, 1985, 1986, 1986, 1985, 1985, 1985, 1984, 1984, 1986, 1985, 1986, 1985, 1985, 1985, 1985, 1985, 1985, 1986, 1985, 1985, 1986, 1986, 1986, 1985, 1986, 1985, 1985, 1985, 1985, 1986, 1986, 1985, 1985, 1985, 1984, 1986, 1985, 1986, 1986, 1984, 1985, 1985, 1985, 1986, 1986, 1986, 1986, 1986, 1985, 1986, 1986, 1985, 1986, 1986, 1984, 1985, 1986, 1986, 1986, 1985, 1986, 1986, 1985, 1984, 1986, 1986, 1986, 1985, 1986, 1986, 1985, 1984, 1986, 1984, 1984, 1986, 1985, 1986, 1986, 1985, 1985, 1984, 1986, 1986, 1986, 1984, 1984, 1985, 1985, 1986, 1986, 1986, 1985, 1984, 1984, 1985, 1986, 1985, 1985, 1986, 1985, 1986, 1985, 1986, 1986, 1985, 1985, 1985, 1985, 1984, 1986, 1986, 1986, 1985]\n"
     ]
    },
    {
     "name": "stderr",
     "output_type": "stream",
     "text": [
      "C:\\Users\\91799\\anaconda3\\lib\\site-packages\\pandas\\core\\frame.py:4308: SettingWithCopyWarning: \n",
      "A value is trying to be set on a copy of a slice from a DataFrame\n",
      "\n",
      "See the caveats in the documentation: https://pandas.pydata.org/pandas-docs/stable/user_guide/indexing.html#returning-a-view-versus-a-copy\n",
      "  return super().drop(\n"
     ]
    }
   ],
   "source": [
    "Q1 = np.percentile(df['year'],25,interpolation='midpoint')\n",
    "Q2 = np.percentile(df['year'],50,interpolation='midpoint')\n",
    "Q3 = np.percentile(df['year'],75,interpolation='midpoint')\n",
    "print('Q1: ',Q1,'\\nQ2: ',Q2,'\\nQ3: ',Q3)\n",
    "\n",
    "IQR = Q3 - Q1\n",
    "print('IQR: ',IQR)\n",
    "\n",
    "low_lm = Q1-1.5*IQR\n",
    "upp_lm = Q3+1.5*IQR\n",
    "print(\"Lower limit is : \",low_lm)\n",
    "print(\"Upper limit is : \",upp_lm)\n",
    "\n",
    "outliers = []\n",
    "for i in df['year']:\n",
    "  if((i>upp_lm)or(i<low_lm)):\n",
    "    outliers.append(i)\n",
    "\n",
    "print(\"Outliers in the fare feature are : \",outliers)\n",
    "\n",
    "indx1 = df['year']>upp_lm\n",
    "outlier_index = df.loc[indx1].index\n",
    "outlier_index\n",
    "\n",
    "df.drop(outlier_index, inplace=True)"
   ]
  },
  {
   "cell_type": "code",
   "execution_count": 58,
   "id": "b3e25f93",
   "metadata": {},
   "outputs": [
    {
     "data": {
      "image/png": "[encoded data removed]",
      "text/plain": [
       "<Figure size 432x288 with 1 Axes>"
      ]
     },
     "metadata": {
      "needs_background": "light"
     },
     "output_type": "display_data"
    }
   ],
   "source": [
    "plt.boxplot(df['year'])\n",
    "plt.show()"
   ]
  },
  {
   "cell_type": "code",
   "execution_count": 59,
   "id": "47d3b82e",
   "metadata": {},
   "outputs": [
    {
     "data": {
      "image/png": "[encoded data removed]",
      "text/plain": [
       "<Figure size 432x288 with 1 Axes>"
      ]
     },
     "metadata": {
      "needs_background": "light"
     },
     "output_type": "display_data"
    }
   ],
   "source": [
    "plt.boxplot(df['month'])\n",
    "plt.show()"
   ]
  },
  {
   "cell_type": "code",
   "execution_count": 60,
   "id": "33e6eb41",
   "metadata": {},
   "outputs": [
    {
     "data": {
      "image/png": "[encoded data removed]",
      "text/plain": [
       "<Figure size 432x288 with 1 Axes>"
      ]
     },
     "metadata": {
      "needs_background": "light"
     },
     "output_type": "display_data"
    }
   ],
   "source": [
    "plt.boxplot(df['day'])\n",
    "plt.show()"
   ]
  },
  {
   "cell_type": "markdown",
   "id": "4394616c",
   "metadata": {},
   "source": [
    "Outliers detection is that to convert categorical value to numeric. here some columns have categorical values that converted to numerical values. Outliers detected and cleared."
   ]
  },
  {
   "cell_type": "code",
   "execution_count": 61,
   "id": "6ea2672e",
   "metadata": {},
   "outputs": [
    {
     "data": {
      "text/plain": [
       "(5000, 12)"
      ]
     },
     "execution_count": 61,
     "metadata": {},
     "output_type": "execute_result"
    }
   ],
   "source": [
    "sample_df=df.sample(n=5000,replace='False')\n",
    "sample_df.shape"
   ]
  },
  {
   "cell_type": "code",
   "execution_count": 62,
   "id": "da30c6e4",
   "metadata": {},
   "outputs": [
    {
     "data": {
      "text/html": [
       "<div>\n",
       "<style scoped>\n",
       "    .dataframe tbody tr th:only-of-type {\n",
       "        vertical-align: middle;\n",
       "    }\n",
       "\n",
       "    .dataframe tbody tr th {\n",
       "        vertical-align: top;\n",
       "    }\n",
       "\n",
       "    .dataframe thead th {\n",
       "        text-align: right;\n",
       "    }\n",
       "</style>\n",
       "<table border=\"1\" class=\"dataframe\">\n",
       "  <thead>\n",
       "    <tr style=\"text-align: right;\">\n",
       "      <th></th>\n",
       "      <th>Emp ID</th>\n",
       "      <th>Name Prefix</th>\n",
       "      <th>First Name</th>\n",
       "      <th>Gender</th>\n",
       "      <th>Age in Yrs</th>\n",
       "      <th>Age in Company (Years)</th>\n",
       "      <th>Country</th>\n",
       "      <th>Region</th>\n",
       "      <th>Salary</th>\n",
       "      <th>year</th>\n",
       "      <th>month</th>\n",
       "      <th>day</th>\n",
       "    </tr>\n",
       "  </thead>\n",
       "  <tbody>\n",
       "    <tr>\n",
       "      <th>26432</th>\n",
       "      <td>714012</td>\n",
       "      <td>3</td>\n",
       "      <td>4012</td>\n",
       "      <td>1</td>\n",
       "      <td>55</td>\n",
       "      <td>24</td>\n",
       "      <td>229</td>\n",
       "      <td>2</td>\n",
       "      <td>194465</td>\n",
       "      <td>1992</td>\n",
       "      <td>11</td>\n",
       "      <td>8</td>\n",
       "    </tr>\n",
       "    <tr>\n",
       "      <th>43210</th>\n",
       "      <td>409791</td>\n",
       "      <td>1</td>\n",
       "      <td>1730</td>\n",
       "      <td>0</td>\n",
       "      <td>50</td>\n",
       "      <td>6</td>\n",
       "      <td>1328</td>\n",
       "      <td>0</td>\n",
       "      <td>193026</td>\n",
       "      <td>2011</td>\n",
       "      <td>6</td>\n",
       "      <td>28</td>\n",
       "    </tr>\n",
       "    <tr>\n",
       "      <th>17136</th>\n",
       "      <td>910965</td>\n",
       "      <td>5</td>\n",
       "      <td>2947</td>\n",
       "      <td>0</td>\n",
       "      <td>32</td>\n",
       "      <td>1</td>\n",
       "      <td>900</td>\n",
       "      <td>1</td>\n",
       "      <td>64603</td>\n",
       "      <td>2017</td>\n",
       "      <td>4</td>\n",
       "      <td>26</td>\n",
       "    </tr>\n",
       "    <tr>\n",
       "      <th>6292</th>\n",
       "      <td>847091</td>\n",
       "      <td>3</td>\n",
       "      <td>2273</td>\n",
       "      <td>1</td>\n",
       "      <td>53</td>\n",
       "      <td>5</td>\n",
       "      <td>2378</td>\n",
       "      <td>0</td>\n",
       "      <td>169122</td>\n",
       "      <td>2011</td>\n",
       "      <td>12</td>\n",
       "      <td>21</td>\n",
       "    </tr>\n",
       "    <tr>\n",
       "      <th>225</th>\n",
       "      <td>546077</td>\n",
       "      <td>1</td>\n",
       "      <td>4485</td>\n",
       "      <td>0</td>\n",
       "      <td>48</td>\n",
       "      <td>26</td>\n",
       "      <td>330</td>\n",
       "      <td>3</td>\n",
       "      <td>138592</td>\n",
       "      <td>1990</td>\n",
       "      <td>11</td>\n",
       "      <td>12</td>\n",
       "    </tr>\n",
       "    <tr>\n",
       "      <th>48245</th>\n",
       "      <td>189840</td>\n",
       "      <td>4</td>\n",
       "      <td>5134</td>\n",
       "      <td>0</td>\n",
       "      <td>46</td>\n",
       "      <td>15</td>\n",
       "      <td>32</td>\n",
       "      <td>1</td>\n",
       "      <td>113610</td>\n",
       "      <td>2002</td>\n",
       "      <td>6</td>\n",
       "      <td>4</td>\n",
       "    </tr>\n",
       "    <tr>\n",
       "      <th>28094</th>\n",
       "      <td>219462</td>\n",
       "      <td>3</td>\n",
       "      <td>4120</td>\n",
       "      <td>1</td>\n",
       "      <td>55</td>\n",
       "      <td>6</td>\n",
       "      <td>747</td>\n",
       "      <td>1</td>\n",
       "      <td>48219</td>\n",
       "      <td>2011</td>\n",
       "      <td>3</td>\n",
       "      <td>11</td>\n",
       "    </tr>\n",
       "    <tr>\n",
       "      <th>47015</th>\n",
       "      <td>873814</td>\n",
       "      <td>3</td>\n",
       "      <td>4123</td>\n",
       "      <td>1</td>\n",
       "      <td>40</td>\n",
       "      <td>18</td>\n",
       "      <td>462</td>\n",
       "      <td>2</td>\n",
       "      <td>118170</td>\n",
       "      <td>1998</td>\n",
       "      <td>12</td>\n",
       "      <td>9</td>\n",
       "    </tr>\n",
       "    <tr>\n",
       "      <th>36482</th>\n",
       "      <td>684939</td>\n",
       "      <td>3</td>\n",
       "      <td>1785</td>\n",
       "      <td>1</td>\n",
       "      <td>31</td>\n",
       "      <td>1</td>\n",
       "      <td>2249</td>\n",
       "      <td>3</td>\n",
       "      <td>188021</td>\n",
       "      <td>2016</td>\n",
       "      <td>7</td>\n",
       "      <td>15</td>\n",
       "    </tr>\n",
       "    <tr>\n",
       "      <th>32453</th>\n",
       "      <td>586891</td>\n",
       "      <td>3</td>\n",
       "      <td>1097</td>\n",
       "      <td>1</td>\n",
       "      <td>32</td>\n",
       "      <td>7</td>\n",
       "      <td>2354</td>\n",
       "      <td>2</td>\n",
       "      <td>84141</td>\n",
       "      <td>2010</td>\n",
       "      <td>6</td>\n",
       "      <td>28</td>\n",
       "    </tr>\n",
       "  </tbody>\n",
       "</table>\n",
       "</div>"
      ],
      "text/plain": [
       "       Emp ID  Name Prefix  First Name  Gender  Age in Yrs  \\\n",
       "26432  714012            3        4012       1          55   \n",
       "43210  409791            1        1730       0          50   \n",
       "17136  910965            5        2947       0          32   \n",
       "6292   847091            3        2273       1          53   \n",
       "225    546077            1        4485       0          48   \n",
       "48245  189840            4        5134       0          46   \n",
       "28094  219462            3        4120       1          55   \n",
       "47015  873814            3        4123       1          40   \n",
       "36482  684939            3        1785       1          31   \n",
       "32453  586891            3        1097       1          32   \n",
       "\n",
       "       Age in Company (Years)  Country  Region  Salary  year  month  day  \n",
       "26432                      24      229       2  194465  1992     11    8  \n",
       "43210                       6     1328       0  193026  2011      6   28  \n",
       "17136                       1      900       1   64603  2017      4   26  \n",
       "6292                        5     2378       0  169122  2011     12   21  \n",
       "225                        26      330       3  138592  1990     11   12  \n",
       "48245                      15       32       1  113610  2002      6    4  \n",
       "28094                       6      747       1   48219  2011      3   11  \n",
       "47015                      18      462       2  118170  1998     12    9  \n",
       "36482                       1     2249       3  188021  2016      7   15  \n",
       "32453                       7     2354       2   84141  2010      6   28  "
      ]
     },
     "execution_count": 62,
     "metadata": {},
     "output_type": "execute_result"
    }
   ],
   "source": [
    "sample_df.head(10)"
   ]
  },
  {
   "cell_type": "code",
   "execution_count": 63,
   "id": "7caea773",
   "metadata": {},
   "outputs": [],
   "source": [
    "x=sample_df.drop(labels='Salary',axis=1)\n",
    "y=sample_df['Salary']"
   ]
  },
  {
   "cell_type": "code",
   "execution_count": 74,
   "id": "89556465",
   "metadata": {},
   "outputs": [],
   "source": [
    "df  = pd.concat([x,y], axis = 1)"
   ]
  },
  {
   "cell_type": "code",
   "execution_count": 116,
   "id": "de87125c",
   "metadata": {},
   "outputs": [
    {
     "data": {
      "image/png": "[encoded data removed]",
      "text/plain": [
       "<Figure size 1080x720 with 2 Axes>"
      ]
     },
     "metadata": {
      "needs_background": "light"
     },
     "output_type": "display_data"
    }
   ],
   "source": [
    "plt.figure(figsize= (15,10))\n",
    "sns.heatmap(x.corr(), annot = True, cmap=\"winter\")\n",
    "plt.show()"
   ]
  },
  {
   "cell_type": "code",
   "execution_count": 66,
   "id": "0cd82781",
   "metadata": {},
   "outputs": [],
   "source": [
    "from sklearn.preprocessing import StandardScaler\n",
    "scale = StandardScaler()\n",
    "x_transform = scale.fit_transform(x)"
   ]
  },
  {
   "cell_type": "code",
   "execution_count": 67,
   "id": "5f5f4263",
   "metadata": {},
   "outputs": [],
   "source": [
    "from sklearn.model_selection import train_test_split\n",
    "x_train,x_test,y_train,y_test = train_test_split(x,y, test_size = 0.3, random_state=42)"
   ]
  },
  {
   "cell_type": "markdown",
   "id": "fd27e06c",
   "metadata": {},
   "source": [
    "# MODELS"
   ]
  },
  {
   "cell_type": "markdown",
   "id": "2a88ca2d",
   "metadata": {},
   "source": [
    "# DecisionTreeClassifier"
   ]
  },
  {
   "cell_type": "code",
   "execution_count": 68,
   "id": "02e7b754",
   "metadata": {},
   "outputs": [],
   "source": [
    "from sklearn.tree import DecisionTreeClassifier\n",
    "dt=DecisionTreeClassifier(criterion='entropy')\n",
    "dt.fit(x_train,y_train)\n",
    "dt_pred=dt.predict(x_test)"
   ]
  },
  {
   "cell_type": "code",
   "execution_count": 69,
   "id": "519afd6d",
   "metadata": {},
   "outputs": [
    {
     "name": "stdout",
     "output_type": "stream",
     "text": [
      "accuracy_score: 0.066\n",
      "precision_score: 0.05894444444444444\n",
      "f1_score: 0.06056825396825397\n",
      "recall_score: 0.066\n",
      "confusion_matrix\n",
      ": [[0 0 0 ... 0 0 0]\n",
      " [0 0 0 ... 0 0 0]\n",
      " [0 0 0 ... 0 0 0]\n",
      " ...\n",
      " [0 0 0 ... 0 0 0]\n",
      " [0 0 0 ... 0 0 0]\n",
      " [0 0 0 ... 0 0 0]]\n"
     ]
    },
    {
     "name": "stderr",
     "output_type": "stream",
     "text": [
      "C:\\Users\\91799\\anaconda3\\lib\\site-packages\\sklearn\\metrics\\_classification.py:1318: UndefinedMetricWarning: Precision is ill-defined and being set to 0.0 in labels with no predicted samples. Use `zero_division` parameter to control this behavior.\n",
      "  _warn_prf(average, modifier, msg_start, len(result))\n",
      "C:\\Users\\91799\\anaconda3\\lib\\site-packages\\sklearn\\metrics\\_classification.py:1318: UndefinedMetricWarning: Recall is ill-defined and being set to 0.0 in labels with no true samples. Use `zero_division` parameter to control this behavior.\n",
      "  _warn_prf(average, modifier, msg_start, len(result))\n"
     ]
    }
   ],
   "source": [
    "from sklearn.metrics import accuracy_score,precision_score,f1_score,recall_score,confusion_matrix\n",
    "print('accuracy_score:',accuracy_score(y_test,dt_pred))\n",
    "print('precision_score:',precision_score(y_test,dt_pred,average='weighted'))\n",
    "print('f1_score:',f1_score(y_test,dt_pred,average='weighted'))\n",
    "print('recall_score:',recall_score(y_test,dt_pred,average='weighted'))\n",
    "print('confusion_matrix\\n:',confusion_matrix(y_test,dt_pred))"
   ]
  },
  {
   "cell_type": "markdown",
   "id": "93aeb1fa",
   "metadata": {},
   "source": [
    "# SVM"
   ]
  },
  {
   "cell_type": "code",
   "execution_count": 69,
   "id": "b0f9b879",
   "metadata": {},
   "outputs": [],
   "source": [
    "from sklearn.svm import SVC\n",
    "svm=SVC(kernel='rbf')\n",
    "svm.fit(x_train,y_train)\n",
    "svm_pred=svm.predict(x_test)"
   ]
  },
  {
   "cell_type": "code",
   "execution_count": 70,
   "id": "e272ec88",
   "metadata": {},
   "outputs": [
    {
     "name": "stdout",
     "output_type": "stream",
     "text": [
      "accuracy_score: 0.0\n",
      "precision_score: 0.0\n",
      "f1_score: 0.0\n",
      "recall_score: 0.0\n"
     ]
    },
    {
     "name": "stderr",
     "output_type": "stream",
     "text": [
      "C:\\Users\\91799\\anaconda3\\lib\\site-packages\\sklearn\\metrics\\_classification.py:1318: UndefinedMetricWarning: Precision is ill-defined and being set to 0.0 in labels with no predicted samples. Use `zero_division` parameter to control this behavior.\n",
      "  _warn_prf(average, modifier, msg_start, len(result))\n",
      "C:\\Users\\91799\\anaconda3\\lib\\site-packages\\sklearn\\metrics\\_classification.py:1318: UndefinedMetricWarning: Recall is ill-defined and being set to 0.0 in labels with no true samples. Use `zero_division` parameter to control this behavior.\n",
      "  _warn_prf(average, modifier, msg_start, len(result))\n"
     ]
    }
   ],
   "source": [
    "print('accuracy_score:',accuracy_score(y_test,svm_pred))\n",
    "print('precision_score:',precision_score(y_test,svm_pred,average='weighted'))\n",
    "print('f1_score:',f1_score(y_test,svm_pred,average='weighted'))\n",
    "print('recall_score:',recall_score(y_test,svm_pred,average='weighted'))"
   ]
  },
  {
   "cell_type": "markdown",
   "id": "ad64a32a",
   "metadata": {},
   "source": [
    "# LogisticRegression"
   ]
  },
  {
   "cell_type": "code",
   "execution_count": 76,
   "id": "ed25bb0e",
   "metadata": {},
   "outputs": [
    {
     "name": "stderr",
     "output_type": "stream",
     "text": [
      "C:\\Users\\91799\\anaconda3\\lib\\site-packages\\sklearn\\utils\\optimize.py:210: ConvergenceWarning: newton-cg failed to converge. Increase the number of iterations.\n",
      "  warnings.warn(\n"
     ]
    }
   ],
   "source": [
    "from sklearn.linear_model import LogisticRegression\n",
    "lnr = LogisticRegression(multi_class='multinomial', solver='newton-cg')\n",
    "lnr.fit(x_train, y_train)\n",
    "lnr_pred = lnr.predict(x_test)"
   ]
  },
  {
   "cell_type": "code",
   "execution_count": 78,
   "id": "9db5aa94",
   "metadata": {},
   "outputs": [
    {
     "name": "stdout",
     "output_type": "stream",
     "text": [
      "accuracy_score: 0.04133333333333333\n",
      "precision_score: 0.03302222222222222\n",
      "f1_score: 0.0353015873015873\n",
      "recall_score: 0.04133333333333333\n",
      "Confusion Matrix = \n",
      " [[0 0 0 ... 0 0 0]\n",
      " [0 0 0 ... 0 0 0]\n",
      " [0 0 0 ... 0 0 0]\n",
      " ...\n",
      " [0 0 0 ... 0 0 0]\n",
      " [0 0 0 ... 0 0 0]\n",
      " [0 0 0 ... 0 0 0]]\n"
     ]
    },
    {
     "name": "stderr",
     "output_type": "stream",
     "text": [
      "C:\\Users\\91799\\anaconda3\\lib\\site-packages\\sklearn\\metrics\\_classification.py:1318: UndefinedMetricWarning: Precision is ill-defined and being set to 0.0 in labels with no predicted samples. Use `zero_division` parameter to control this behavior.\n",
      "  _warn_prf(average, modifier, msg_start, len(result))\n",
      "C:\\Users\\91799\\anaconda3\\lib\\site-packages\\sklearn\\metrics\\_classification.py:1318: UndefinedMetricWarning: Recall is ill-defined and being set to 0.0 in labels with no true samples. Use `zero_division` parameter to control this behavior.\n",
      "  _warn_prf(average, modifier, msg_start, len(result))\n"
     ]
    }
   ],
   "source": [
    "print('accuracy_score:',accuracy_score(y_test,lnr_pred))\n",
    "print('precision_score:',precision_score(y_test,lnr_pred,average='weighted'))\n",
    "print('f1_score:',f1_score(y_test,lnr_pred,average='weighted'))\n",
    "print('recall_score:',recall_score(y_test,lnr_pred,average='weighted'))\n",
    "print('Confusion Matrix = \\n', confusion_matrix(y_test, lnr_pred))"
   ]
  },
  {
   "cell_type": "markdown",
   "id": "3865fdb3",
   "metadata": {},
   "source": [
    "# RandomForest"
   ]
  },
  {
   "cell_type": "code",
   "execution_count": 79,
   "id": "46242040",
   "metadata": {},
   "outputs": [],
   "source": [
    "from sklearn.ensemble import RandomForestClassifier\n",
    "rf=RandomForestClassifier()\n",
    "rf.fit(x_train,y_train)\n",
    "rf_pred=rf.predict(x_test)"
   ]
  },
  {
   "cell_type": "code",
   "execution_count": 80,
   "id": "76b8fa64",
   "metadata": {},
   "outputs": [
    {
     "name": "stdout",
     "output_type": "stream",
     "text": [
      "accuracy_score: 0.066\n",
      "precision_score: 0.054577777777777774\n",
      "f1_score: 0.057555555555555554\n",
      "recall_score: 0.066\n"
     ]
    },
    {
     "name": "stderr",
     "output_type": "stream",
     "text": [
      "C:\\Users\\91799\\anaconda3\\lib\\site-packages\\sklearn\\metrics\\_classification.py:1318: UndefinedMetricWarning: Precision is ill-defined and being set to 0.0 in labels with no predicted samples. Use `zero_division` parameter to control this behavior.\n",
      "  _warn_prf(average, modifier, msg_start, len(result))\n",
      "C:\\Users\\91799\\anaconda3\\lib\\site-packages\\sklearn\\metrics\\_classification.py:1318: UndefinedMetricWarning: Recall is ill-defined and being set to 0.0 in labels with no true samples. Use `zero_division` parameter to control this behavior.\n",
      "  _warn_prf(average, modifier, msg_start, len(result))\n"
     ]
    }
   ],
   "source": [
    "print('accuracy_score:',accuracy_score(y_test,rf_pred))\n",
    "print('precision_score:',precision_score(y_test,rf_pred,average='weighted'))\n",
    "print('f1_score:',f1_score(y_test,rf_pred,average='weighted'))\n",
    "print('recall_score:',recall_score(y_test,rf_pred,average='weighted'))\n"
   ]
  },
  {
   "cell_type": "code",
   "execution_count": 81,
   "id": "e20f2ec8",
   "metadata": {},
   "outputs": [
    {
     "name": "stdout",
     "output_type": "stream",
     "text": [
      "Confusion Matrix = \n",
      " [[0 0 0 ... 0 0 0]\n",
      " [0 0 0 ... 0 0 0]\n",
      " [0 0 0 ... 0 0 0]\n",
      " ...\n",
      " [0 0 0 ... 0 0 0]\n",
      " [0 0 0 ... 0 0 0]\n",
      " [0 0 0 ... 0 0 0]]\n"
     ]
    }
   ],
   "source": [
    "print('Confusion Matrix = \\n', confusion_matrix(y_test, rf_pred))"
   ]
  },
  {
   "cell_type": "markdown",
   "id": "b0cdd85e",
   "metadata": {},
   "source": [
    "# LinearRegression"
   ]
  },
  {
   "cell_type": "code",
   "execution_count": 82,
   "id": "b8ffbcf3",
   "metadata": {},
   "outputs": [],
   "source": [
    "from sklearn.linear_model import LinearRegression\n",
    "linear=LinearRegression()\n",
    "linear.fit(x_train,y_train)\n",
    "linear_pred=linear.predict(x_test)"
   ]
  },
  {
   "cell_type": "code",
   "execution_count": 83,
   "id": "b9b73d40",
   "metadata": {},
   "outputs": [],
   "source": [
    "from sklearn.metrics import mean_squared_error\n",
    "from sklearn.metrics import mean_absolute_error"
   ]
  },
  {
   "cell_type": "code",
   "execution_count": 84,
   "id": "4df0d7c1",
   "metadata": {},
   "outputs": [
    {
     "name": "stdout",
     "output_type": "stream",
     "text": [
      "mean_absolute_error: 40065.97366934737\n",
      "mean_squared_error: 2136224440.8400006\n",
      "mean root squared error: 46219.308095643326\n"
     ]
    }
   ],
   "source": [
    "print('mean_absolute_error:',mean_absolute_error(y_test,linear_pred))\n",
    "print('mean_squared_error:',mean_squared_error(y_test,linear_pred))\n",
    "print('mean root squared error:',np.sqrt(mean_squared_error(y_test,linear_pred)))"
   ]
  },
  {
   "cell_type": "markdown",
   "id": "7205433e",
   "metadata": {},
   "source": [
    "# Naive Bayes"
   ]
  },
  {
   "cell_type": "code",
   "execution_count": 85,
   "id": "38a25aab",
   "metadata": {},
   "outputs": [
    {
     "name": "stdout",
     "output_type": "stream",
     "text": [
      "[65242 77577 43954 ... 94061 84173 99135]\n"
     ]
    }
   ],
   "source": [
    "from sklearn.naive_bayes import GaussianNB\n",
    "naivebayes=GaussianNB()\n",
    "naivebayes.fit(x_train,y_train)\n",
    "naivebayes=naivebayes.predict(x_test)\n",
    "print(naivebayes)"
   ]
  },
  {
   "cell_type": "code",
   "execution_count": 86,
   "id": "c17cd974",
   "metadata": {},
   "outputs": [
    {
     "name": "stdout",
     "output_type": "stream",
     "text": [
      "              precision    recall  f1-score   support\n",
      "\n",
      "       40200       0.00      0.00      0.00         1\n",
      "       40265       0.00      0.00      0.00         2\n",
      "       40371       0.00      0.00      0.00         1\n",
      "       40389       0.00      0.00      0.00         1\n",
      "       40491       0.00      0.00      0.00         1\n",
      "       40544       0.00      0.00      0.00         1\n",
      "       40622       0.00      0.00      0.00         1\n",
      "       40707       0.00      0.00      0.00         0\n",
      "       40739       0.00      0.00      0.00         1\n",
      "       40771       0.00      0.00      0.00         1\n",
      "       40823       0.00      0.00      0.00         1\n",
      "       40867       0.00      0.00      0.00         1\n",
      "       40923       0.00      0.00      0.00         1\n",
      "       40997       0.00      0.00      0.00         1\n",
      "       41350       0.00      0.00      0.00         1\n",
      "       41526       0.00      0.00      0.00         1\n",
      "       41648       0.00      0.00      0.00         1\n",
      "       41693       0.00      0.00      0.00         1\n",
      "       41989       0.00      0.00      0.00         1\n",
      "       42235       0.00      0.00      0.00         1\n",
      "       42291       0.00      0.00      0.00         1\n",
      "       42376       0.00      0.00      0.00         1\n",
      "       42434       0.00      0.00      0.00         1\n",
      "       42443       1.00      0.50      0.67         2\n",
      "       42468       0.00      0.00      0.00         1\n",
      "       42512       0.00      0.00      0.00         1\n",
      "       42630       0.00      0.00      0.00         1\n",
      "       42753       0.00      0.00      0.00         2\n",
      "       42805       0.00      0.00      0.00         1\n",
      "       43237       0.00      0.00      0.00         1\n",
      "       43716       0.00      0.00      0.00         1\n",
      "       43875       0.00      0.00      0.00         1\n",
      "       43913       0.00      0.00      0.00         1\n",
      "       43954       1.00      1.00      1.00         1\n",
      "       44063       0.00      0.00      0.00         1\n",
      "       44364       0.00      0.00      0.00         1\n",
      "       44365       0.00      0.00      0.00         1\n",
      "       44425       0.00      0.00      0.00         1\n",
      "       44704       0.00      0.00      0.00         1\n",
      "       44799       0.00      0.00      0.00         1\n",
      "       45175       0.00      0.00      0.00         1\n",
      "       45303       0.00      0.00      0.00         1\n",
      "       45356       0.00      0.00      0.00         1\n",
      "       45449       0.00      0.00      0.00         1\n",
      "       45597       0.00      0.00      0.00         1\n",
      "       45654       0.00      0.00      0.00         1\n",
      "       45683       0.00      0.00      0.00         1\n",
      "       45750       0.00      0.00      0.00         1\n",
      "       45880       0.00      0.00      0.00         1\n",
      "       46256       0.00      0.00      0.00         1\n",
      "       46260       0.00      0.00      0.00         0\n",
      "       46580       0.00      0.00      0.00         1\n",
      "       46618       0.00      0.00      0.00         1\n",
      "       46627       0.00      0.00      0.00         1\n",
      "       46836       0.00      0.00      0.00         1\n",
      "       46906       0.00      0.00      0.00         1\n",
      "       47024       0.00      0.00      0.00         1\n",
      "       47091       0.00      0.00      0.00         1\n",
      "       47142       0.00      0.00      0.00         1\n",
      "       47170       0.00      0.00      0.00         1\n",
      "       47176       0.00      0.00      0.00         1\n",
      "       47194       0.00      0.00      0.00         1\n",
      "       47196       0.00      0.00      0.00         1\n",
      "       47247       0.00      0.00      0.00         1\n",
      "       47310       0.00      0.00      0.00         1\n",
      "       47466       0.00      0.00      0.00         1\n",
      "       47647       0.00      0.00      0.00         1\n",
      "       47794       0.00      0.00      0.00         1\n",
      "       47906       0.00      0.00      0.00         1\n",
      "       48041       0.00      0.00      0.00         1\n",
      "       48105       0.00      0.00      0.00         1\n",
      "       48314       0.00      0.00      0.00         1\n",
      "       48357       0.00      0.00      0.00         1\n",
      "       48408       0.00      0.00      0.00         0\n",
      "       48483       0.00      0.00      0.00         1\n",
      "       48552       0.00      0.00      0.00         1\n",
      "       48607       0.00      0.00      0.00         1\n",
      "       48621       1.00      1.00      1.00         1\n",
      "       48626       0.00      0.00      0.00         1\n",
      "       48676       0.00      0.00      0.00         1\n",
      "       48695       0.00      0.00      0.00         1\n",
      "       48715       0.00      0.00      0.00         1\n",
      "       48775       0.00      0.00      0.00         1\n",
      "       48799       0.00      0.00      0.00         1\n",
      "       48899       0.00      0.00      0.00         1\n",
      "       48924       0.00      0.00      0.00         1\n",
      "       49044       0.00      0.00      0.00         1\n",
      "       49097       1.00      1.00      1.00         1\n",
      "       49130       0.00      0.00      0.00         1\n",
      "       49155       0.00      0.00      0.00         1\n",
      "       49324       0.00      0.00      0.00         1\n",
      "       49489       0.00      0.00      0.00         1\n",
      "       49639       0.00      0.00      0.00         1\n",
      "       49786       0.00      0.00      0.00         1\n",
      "       49902       0.00      0.00      0.00         1\n",
      "       50229       0.00      0.00      0.00         1\n",
      "       50268       0.00      0.00      0.00         1\n",
      "       50374       0.00      0.00      0.00         1\n",
      "       50445       0.00      0.00      0.00         1\n",
      "       50564       0.00      0.00      0.00         1\n",
      "       50644       0.00      0.00      0.00         1\n",
      "       50670       0.00      0.00      0.00         1\n",
      "       50912       0.00      0.00      0.00         1\n",
      "       50969       0.00      0.00      0.00         2\n",
      "       50996       0.00      0.00      0.00         1\n",
      "       51046       0.00      0.00      0.00         1\n",
      "       51367       0.00      0.00      0.00         1\n",
      "       51527       0.00      0.00      0.00         1\n",
      "       51669       0.00      0.00      0.00         1\n",
      "       51724       0.00      0.00      0.00         1\n",
      "       51725       0.00      0.00      0.00         1\n",
      "       51737       0.00      0.00      0.00         1\n",
      "       51823       0.00      0.00      0.00         1\n",
      "       51908       0.00      0.00      0.00         1\n",
      "       51994       0.00      0.00      0.00         1\n",
      "       52072       0.00      0.00      0.00         1\n",
      "       52384       0.00      0.00      0.00         1\n",
      "       52575       0.00      0.00      0.00         1\n",
      "       52671       0.00      0.00      0.00         1\n",
      "       52818       0.00      0.00      0.00         1\n",
      "       52913       0.00      0.00      0.00         1\n",
      "       52998       0.00      0.00      0.00         1\n",
      "       53019       0.00      0.00      0.00         1\n",
      "       53177       0.00      0.00      0.00         1\n",
      "       53185       0.00      0.00      0.00         1\n",
      "       53451       0.00      0.00      0.00         1\n",
      "       53474       0.00      0.00      0.00         1\n",
      "       53573       0.00      0.00      0.00         1\n",
      "       53604       0.00      0.00      0.00         1\n",
      "       53842       0.00      0.00      0.00         0\n",
      "       53846       0.00      0.00      0.00         1\n",
      "       54033       0.00      0.00      0.00         1\n",
      "       54163       0.00      0.00      0.00         1\n",
      "       54256       0.00      0.00      0.00         1\n",
      "       54631       0.00      0.00      0.00         1\n",
      "       54640       0.00      0.00      0.00         1\n",
      "       54868       0.00      0.00      0.00         1\n",
      "       54955       0.00      0.00      0.00         1\n",
      "       55153       0.00      0.00      0.00         1\n",
      "       55335       0.00      0.00      0.00         1\n",
      "       55390       0.00      0.00      0.00         1\n",
      "       55400       0.00      0.00      0.00         1\n",
      "       55572       0.00      0.00      0.00         1\n",
      "       55863       0.00      0.00      0.00         1\n",
      "       55921       0.00      0.00      0.00         1\n",
      "       55994       0.00      0.00      0.00         1\n",
      "       55996       0.00      0.00      0.00         1\n",
      "       56023       0.00      0.00      0.00         1\n",
      "       56293       0.00      0.00      0.00         1\n",
      "       56464       1.00      1.00      1.00         1\n",
      "       56481       0.00      0.00      0.00         1\n",
      "       56624       0.00      0.00      0.00         1\n",
      "       56704       0.00      0.00      0.00         1\n",
      "       57048       0.00      0.00      0.00         1\n",
      "       57058       0.00      0.00      0.00         1\n",
      "       57103       0.00      0.00      0.00         1\n",
      "       57109       0.00      0.00      0.00         1\n",
      "       57401       0.00      0.00      0.00         1\n",
      "       57564       0.00      0.00      0.00         1\n",
      "       57792       0.00      0.00      0.00         1\n",
      "       57818       0.00      0.00      0.00         1\n",
      "       57852       0.00      0.00      0.00         1\n",
      "       57919       0.00      0.00      0.00         1\n",
      "       58203       0.00      0.00      0.00         1\n",
      "       58228       0.00      0.00      0.00         1\n",
      "       58305       0.00      0.00      0.00         1\n",
      "       58311       0.00      0.00      0.00         1\n",
      "       58351       0.00      0.00      0.00         1\n",
      "       58386       0.00      0.00      0.00         1\n",
      "       58397       0.00      0.00      0.00         1\n",
      "       58456       0.00      0.00      0.00         1\n",
      "       58581       0.00      0.00      0.00         1\n",
      "       58953       0.00      0.00      0.00         1\n",
      "       59003       0.00      0.00      0.00         1\n",
      "       59127       0.00      0.00      0.00         1\n",
      "       59182       0.00      0.00      0.00         1\n",
      "       59445       0.00      0.00      0.00         1\n",
      "       59526       0.00      0.00      0.00         1\n",
      "       59534       0.00      0.00      0.00         1\n",
      "       59557       0.00      0.00      0.00         1\n",
      "       59672       0.00      0.00      0.00         1\n",
      "       59771       0.00      0.00      0.00         1\n",
      "       60008       0.00      0.00      0.00         1\n",
      "       60014       0.00      0.00      0.00         1\n",
      "       60039       0.00      0.00      0.00         1\n",
      "       60080       0.00      0.00      0.00         1\n",
      "       60118       0.00      0.00      0.00         1\n",
      "       60247       0.00      0.00      0.00         1\n",
      "       60298       0.00      0.00      0.00         1\n",
      "       60393       0.00      0.00      0.00         1\n",
      "       60531       0.00      0.00      0.00         1\n",
      "       60548       0.00      0.00      0.00         1\n",
      "       60558       0.00      0.00      0.00         1\n",
      "       60588       0.00      0.00      0.00         1\n",
      "       60607       0.00      0.00      0.00         1\n",
      "       60610       0.00      0.00      0.00         1\n",
      "       60791       0.00      0.00      0.00         1\n",
      "       60803       0.00      0.00      0.00         1\n",
      "       60805       0.00      0.00      0.00         1\n",
      "       61025       0.00      0.00      0.00         1\n",
      "       61514       0.00      0.00      0.00         1\n",
      "       61628       0.00      0.00      0.00         1\n",
      "       61903       0.00      0.00      0.00         1\n",
      "       62057       0.00      0.00      0.00         1\n",
      "       62184       0.00      0.00      0.00         1\n",
      "       62302       0.00      0.00      0.00         1\n",
      "       62332       0.00      0.00      0.00         1\n",
      "       62334       0.00      0.00      0.00         1\n",
      "       62683       0.00      0.00      0.00         1\n",
      "       62960       0.00      0.00      0.00         1\n",
      "       63007       0.00      0.00      0.00         1\n",
      "       63020       0.00      0.00      0.00         1\n",
      "       63302       0.00      0.00      0.00         1\n",
      "       63424       0.00      0.00      0.00         2\n",
      "       63446       0.00      0.00      0.00         1\n",
      "       63588       0.00      0.00      0.00         1\n",
      "       63608       0.00      0.00      0.00         1\n",
      "       63907       0.00      0.00      0.00         1\n",
      "       63971       0.00      0.00      0.00         1\n",
      "       64003       0.00      0.00      0.00         1\n",
      "       64094       0.00      0.00      0.00         1\n",
      "       64692       0.00      0.00      0.00         1\n",
      "       64719       0.00      0.00      0.00         1\n",
      "       65027       0.00      0.00      0.00         1\n",
      "       65202       0.00      0.00      0.00         1\n",
      "       65234       0.00      0.00      0.00         1\n",
      "       65242       0.00      0.00      0.00         0\n",
      "       65267       0.00      0.00      0.00         1\n",
      "       65296       0.00      0.00      0.00         1\n",
      "       65361       1.00      1.00      1.00         1\n",
      "       65369       0.00      0.00      0.00         1\n",
      "       65690       0.00      0.00      0.00         1\n",
      "       65731       0.00      0.00      0.00         1\n",
      "       65750       0.00      0.00      0.00         1\n",
      "       65924       0.00      0.00      0.00         1\n",
      "       65952       0.00      0.00      0.00         1\n",
      "       65960       0.00      0.00      0.00         1\n",
      "       66057       0.00      0.00      0.00         1\n",
      "       66220       0.00      0.00      0.00         1\n",
      "       66347       0.00      0.00      0.00         1\n",
      "       66493       0.00      0.00      0.00         1\n",
      "       66656       0.00      0.00      0.00         1\n",
      "       66739       0.00      0.00      0.00         1\n",
      "       66801       0.00      0.00      0.00         1\n",
      "       66818       0.00      0.00      0.00         1\n",
      "       66954       0.00      0.00      0.00         1\n",
      "       66971       0.00      0.00      0.00         1\n",
      "       67046       0.00      0.00      0.00         1\n",
      "       67172       0.00      0.00      0.00         1\n",
      "       67196       0.00      0.00      0.00         1\n",
      "       67259       0.00      0.00      0.00         1\n",
      "       67350       0.00      0.00      0.00         1\n",
      "       67377       0.00      0.00      0.00         1\n",
      "       67545       0.00      0.00      0.00         1\n",
      "       67597       0.00      0.00      0.00         1\n",
      "       67788       0.00      0.00      0.00         1\n",
      "       67860       0.00      0.00      0.00         1\n",
      "       67879       0.00      0.00      0.00         1\n",
      "       67908       0.00      0.00      0.00         1\n",
      "       68012       0.00      0.00      0.00         1\n",
      "       68036       0.00      0.00      0.00         1\n",
      "       68038       0.00      0.00      0.00         1\n",
      "       68410       0.00      0.00      0.00         1\n",
      "       68411       0.00      0.00      0.00         1\n",
      "       68483       0.00      0.00      0.00         2\n",
      "       68525       0.00      0.00      0.00         1\n",
      "       68747       0.00      0.00      0.00         1\n",
      "       68863       0.00      0.00      0.00         1\n",
      "       68885       0.00      0.00      0.00         1\n",
      "       68924       0.00      0.00      0.00         1\n",
      "       69111       0.00      0.00      0.00         1\n",
      "       69116       0.00      0.00      0.00         1\n",
      "       69267       0.00      0.00      0.00         1\n",
      "       69281       0.00      0.00      0.00         1\n",
      "       69423       0.00      0.00      0.00         1\n",
      "       69446       0.00      0.00      0.00         1\n",
      "       69494       0.00      0.00      0.00         1\n",
      "       69647       0.00      0.00      0.00         1\n",
      "       69740       0.00      0.00      0.00         1\n",
      "       69750       0.00      0.00      0.00         1\n",
      "       70088       0.00      0.00      0.00         1\n",
      "       70103       0.00      0.00      0.00         1\n",
      "       70277       0.00      0.00      0.00         1\n",
      "       70432       0.00      0.00      0.00         1\n",
      "       70577       0.00      0.00      0.00         1\n",
      "       70632       0.00      0.00      0.00         1\n",
      "       70847       0.00      0.00      0.00         1\n",
      "       70957       0.00      0.00      0.00         1\n",
      "       71081       0.00      0.00      0.00         1\n",
      "       71481       0.00      0.00      0.00         1\n",
      "       71553       0.00      0.00      0.00         1\n",
      "       71693       0.00      0.00      0.00         2\n",
      "       71744       0.00      0.00      0.00         1\n",
      "       71944       0.00      0.00      0.00         1\n",
      "       71948       0.00      0.00      0.00         1\n",
      "       72028       0.00      0.00      0.00         1\n",
      "       72359       0.00      0.00      0.00         1\n",
      "       72467       0.00      0.00      0.00         1\n",
      "       72468       0.00      0.00      0.00         1\n",
      "       72558       0.00      0.00      0.00         1\n",
      "       72684       0.00      0.00      0.00         1\n",
      "       72739       0.00      0.00      0.00         1\n",
      "       72802       0.00      0.00      0.00         1\n",
      "       72836       0.00      0.00      0.00         1\n",
      "       72837       0.00      0.00      0.00         1\n",
      "       73050       0.00      0.00      0.00         1\n",
      "       73219       0.00      0.00      0.00         1\n",
      "       73457       0.00      0.00      0.00         1\n",
      "       73602       0.00      0.00      0.00         1\n",
      "       73658       0.00      0.00      0.00         1\n",
      "       73779       0.00      0.00      0.00         1\n",
      "       73813       0.00      0.00      0.00         1\n",
      "       73879       1.00      1.00      1.00         1\n",
      "       73919       1.00      1.00      1.00         1\n",
      "       73920       0.00      0.00      0.00         1\n",
      "       73954       0.00      0.00      0.00         1\n",
      "       73972       0.00      0.00      0.00         1\n",
      "       74047       0.00      0.00      0.00         1\n",
      "       74049       0.00      0.00      0.00         1\n",
      "       74242       0.00      0.00      0.00         1\n",
      "       74272       0.00      0.00      0.00         1\n",
      "       74339       1.00      1.00      1.00         1\n",
      "       74418       0.00      0.00      0.00         1\n",
      "       74542       1.00      1.00      1.00         1\n",
      "       74558       0.00      0.00      0.00         1\n",
      "       74719       0.00      0.00      0.00         1\n",
      "       74798       0.00      0.00      0.00         1\n",
      "       74801       0.00      0.00      0.00         1\n",
      "       74935       1.00      1.00      1.00         1\n",
      "       75001       0.00      0.00      0.00         1\n",
      "       75193       0.00      0.00      0.00         1\n",
      "       75197       0.00      0.00      0.00         1\n",
      "       75216       0.00      0.00      0.00         1\n",
      "       75239       1.00      1.00      1.00         1\n",
      "       75323       1.00      1.00      1.00         1\n",
      "       75330       0.00      0.00      0.00         1\n",
      "       75332       0.00      0.00      0.00         1\n",
      "       75491       0.00      0.00      0.00         1\n",
      "       75673       0.00      0.00      0.00         1\n",
      "       75710       0.00      0.00      0.00         1\n",
      "       75880       0.00      0.00      0.00         1\n",
      "       75907       0.00      0.00      0.00         1\n",
      "       76030       0.00      0.00      0.00         1\n",
      "       76109       0.00      0.00      0.00         1\n",
      "       76286       0.00      0.00      0.00         1\n",
      "       76342       0.00      0.00      0.00         1\n",
      "       76399       0.00      0.00      0.00         1\n",
      "       76549       0.00      0.00      0.00         1\n",
      "       76677       0.00      0.00      0.00         1\n",
      "       76704       0.00      0.00      0.00         1\n",
      "       76723       0.00      0.00      0.00         1\n",
      "       76746       0.00      0.00      0.00         1\n",
      "       76750       0.00      0.00      0.00         1\n",
      "       76761       0.00      0.00      0.00         1\n",
      "       76886       0.00      0.00      0.00         1\n",
      "       77135       0.00      0.00      0.00         1\n",
      "       77314       0.00      0.00      0.00         1\n",
      "       77407       0.00      0.00      0.00         1\n",
      "       77435       0.00      0.00      0.00         1\n",
      "       77577       0.00      0.00      0.00         0\n",
      "       77804       0.00      0.00      0.00         1\n",
      "       78119       0.00      0.00      0.00         1\n",
      "       78156       1.00      1.00      1.00         1\n",
      "       78254       0.00      0.00      0.00         1\n",
      "       78282       1.00      1.00      1.00         1\n",
      "       78403       0.00      0.00      0.00         1\n",
      "       78715       0.00      0.00      0.00         1\n",
      "       78742       0.00      0.00      0.00         1\n",
      "       78825       0.00      0.00      0.00         1\n",
      "       78894       0.00      0.00      0.00         1\n",
      "       79198       0.00      0.00      0.00         1\n",
      "       79425       0.00      0.00      0.00         1\n",
      "       79492       0.00      0.00      0.00         1\n",
      "       79544       0.00      0.00      0.00         1\n",
      "       79571       1.00      1.00      1.00         1\n",
      "       79593       0.00      0.00      0.00         2\n",
      "       79731       0.00      0.00      0.00         1\n",
      "       79882       0.00      0.00      0.00         1\n",
      "       80027       0.00      0.00      0.00         1\n",
      "       80158       0.00      0.00      0.00         1\n",
      "       80361       0.00      0.00      0.00         1\n",
      "       80411       0.00      0.00      0.00         1\n",
      "       80457       0.00      0.00      0.00         1\n",
      "       80518       0.00      0.00      0.00         1\n",
      "       80562       1.00      1.00      1.00         1\n",
      "       80875       0.00      0.00      0.00         1\n",
      "       80881       0.00      0.00      0.00         1\n",
      "       80905       0.00      0.00      0.00         1\n",
      "       81032       1.00      1.00      1.00         1\n",
      "       81047       0.00      0.00      0.00         1\n",
      "       81229       0.00      0.00      0.00         1\n",
      "       81323       1.00      1.00      1.00         1\n",
      "       81401       0.00      0.00      0.00         1\n",
      "       81459       0.00      0.00      0.00         1\n",
      "       81464       0.00      0.00      0.00         1\n",
      "       81486       0.00      0.00      0.00         1\n",
      "       81524       0.00      0.00      0.00         1\n",
      "       81594       0.00      0.00      0.00         1\n",
      "       81599       0.00      0.00      0.00         1\n",
      "       81846       0.00      0.00      0.00         1\n",
      "       81934       0.00      0.00      0.00         1\n",
      "       82079       0.00      0.00      0.00         1\n",
      "       82151       1.00      1.00      1.00         1\n",
      "       82206       0.00      0.00      0.00         1\n",
      "       82327       0.00      0.00      0.00         1\n",
      "       82545       1.00      1.00      1.00         1\n",
      "       82556       1.00      1.00      1.00         1\n",
      "       82677       0.00      0.00      0.00         1\n",
      "       82847       0.00      0.00      0.00         1\n",
      "       82923       0.00      0.00      0.00         1\n",
      "       83018       0.00      0.00      0.00         1\n",
      "       83367       0.00      0.00      0.00         1\n",
      "       83485       0.00      0.00      0.00         1\n",
      "       83699       0.00      0.00      0.00         1\n",
      "       83759       0.00      0.00      0.00         1\n",
      "       84145       0.00      0.00      0.00         1\n",
      "       84173       0.01      1.00      0.02         1\n",
      "       84313       0.00      0.00      0.00         1\n",
      "       84320       0.00      0.00      0.00         1\n",
      "       84330       0.00      0.00      0.00         1\n",
      "       84337       0.00      0.00      0.00         1\n",
      "       84390       0.00      0.00      0.00         1\n",
      "       84549       1.00      1.00      1.00         1\n",
      "       84649       0.00      0.00      0.00         1\n",
      "       84667       0.00      0.00      0.00         1\n",
      "       84672       0.00      0.00      0.00         1\n",
      "       84699       0.00      0.00      0.00         1\n",
      "       84867       0.00      0.00      0.00         1\n",
      "       84903       0.00      0.00      0.00         1\n",
      "       84937       0.00      0.00      0.00         1\n",
      "       85195       0.00      0.00      0.00         0\n",
      "       85480       0.00      0.00      0.00         1\n",
      "       85641       0.00      0.00      0.00         1\n",
      "       85684       1.00      1.00      1.00         1\n",
      "       85714       0.00      0.00      0.00         1\n",
      "       85903       0.00      0.00      0.00         1\n",
      "       85920       0.00      0.00      0.00         1\n",
      "       86082       0.00      0.00      0.00         1\n",
      "       86130       0.00      0.00      0.00         1\n",
      "       86310       1.00      1.00      1.00         1\n",
      "       86318       0.00      0.00      0.00         1\n",
      "       86486       0.00      0.00      0.00         1\n",
      "       86554       0.00      0.00      0.00         1\n",
      "       86621       0.00      0.00      0.00         1\n",
      "       86640       0.00      0.00      0.00         1\n",
      "       86744       0.00      0.00      0.00         1\n",
      "       86903       0.00      0.00      0.00         1\n",
      "       86977       0.00      0.00      0.00         1\n",
      "       87473       0.00      0.00      0.00         1\n",
      "       87560       0.00      0.00      0.00         1\n",
      "       87800       0.00      0.00      0.00         1\n",
      "       87842       0.00      0.00      0.00         1\n",
      "       88128       0.00      0.00      0.00         1\n",
      "       88136       1.00      1.00      1.00         1\n",
      "       88183       0.00      0.00      0.00         1\n",
      "       88223       0.00      0.00      0.00         1\n",
      "       88357       0.00      0.00      0.00         1\n",
      "       88435       0.00      0.00      0.00         1\n",
      "       88483       0.00      0.00      0.00         1\n",
      "       88538       0.00      0.00      0.00         0\n",
      "       88650       0.00      0.00      0.00         1\n",
      "       88727       0.00      0.00      0.00         1\n",
      "       88802       0.00      0.00      0.00         1\n",
      "       88866       0.00      0.00      0.00         1\n",
      "       88944       0.00      0.00      0.00         1\n",
      "       88991       0.00      0.00      0.00         1\n",
      "       89124       0.00      0.00      0.00         1\n",
      "       89336       0.00      0.00      0.00         1\n",
      "       89449       0.00      0.00      0.00         1\n",
      "       89679       0.00      0.00      0.00         1\n",
      "       89707       0.00      0.00      0.00         1\n",
      "       89756       0.00      0.00      0.00         1\n",
      "       89785       0.00      0.00      0.00         1\n",
      "       89798       0.00      0.00      0.00         1\n",
      "       89807       0.00      0.00      0.00         1\n",
      "       89833       0.00      0.00      0.00         1\n",
      "       89859       0.00      0.00      0.00         1\n",
      "       89907       0.00      0.00      0.00         1\n",
      "       90057       0.00      0.00      0.00         1\n",
      "       90152       0.00      0.00      0.00         1\n",
      "       90181       0.00      0.00      0.00         1\n",
      "       90295       1.00      1.00      1.00         1\n",
      "       90327       1.00      1.00      1.00         1\n",
      "       90694       0.00      0.00      0.00         1\n",
      "       90792       1.00      1.00      1.00         1\n",
      "       90929       0.00      0.00      0.00         1\n",
      "       90967       0.00      0.00      0.00         1\n",
      "       91062       0.00      0.00      0.00         1\n",
      "       91160       0.00      0.00      0.00         2\n",
      "       91312       0.00      0.00      0.00         1\n",
      "       91315       0.00      0.00      0.00         1\n",
      "       91432       0.00      0.00      0.00         1\n",
      "       91491       0.00      0.00      0.00         1\n",
      "       91497       0.00      0.00      0.00         1\n",
      "       91571       0.00      0.00      0.00         1\n",
      "       91683       0.00      0.00      0.00         1\n",
      "       91792       0.00      0.00      0.00         2\n",
      "       91955       0.00      0.00      0.00         1\n",
      "       91983       0.00      0.00      0.00         1\n",
      "       92254       0.00      0.00      0.00         1\n",
      "       92375       0.00      0.00      0.00         1\n",
      "       92460       0.00      0.00      0.00         1\n",
      "       92742       0.00      0.00      0.00         1\n",
      "       92877       1.00      1.00      1.00         1\n",
      "       92904       0.00      0.00      0.00         1\n",
      "       92924       0.00      0.00      0.00         1\n",
      "       92957       0.00      0.00      0.00         1\n",
      "       93495       0.00      0.00      0.00         1\n",
      "       93695       1.00      1.00      1.00         1\n",
      "       93809       0.00      0.00      0.00         1\n",
      "       93817       0.00      0.00      0.00         1\n",
      "       93846       0.00      0.00      0.00         1\n",
      "       93913       0.00      0.00      0.00         1\n",
      "       94037       0.00      0.00      0.00         1\n",
      "       94061       0.00      0.00      0.00         0\n",
      "       94140       0.00      0.00      0.00         1\n",
      "       94241       0.00      0.00      0.00         1\n",
      "       94298       0.00      0.00      0.00         1\n",
      "       94387       0.00      0.00      0.00         1\n",
      "       94489       0.00      0.00      0.00         1\n",
      "       94640       0.00      0.00      0.00         1\n",
      "       94648       0.00      0.00      0.00         1\n",
      "       94880       0.00      0.00      0.00         1\n",
      "       94949       0.00      0.00      0.00         1\n",
      "       95001       0.00      0.00      0.00         1\n",
      "       95008       0.00      0.00      0.00         1\n",
      "       95301       0.00      0.00      0.00         1\n",
      "       95422       0.00      0.00      0.00         1\n",
      "       95566       0.00      0.00      0.00         1\n",
      "       95568       0.00      0.00      0.00         0\n",
      "       95629       0.00      0.00      0.00         1\n",
      "       95633       0.00      0.00      0.00         1\n",
      "       95845       0.00      0.00      0.00         1\n",
      "       95855       0.00      0.00      0.00         1\n",
      "       95860       0.00      0.00      0.00         1\n",
      "       95970       0.00      0.00      0.00         1\n",
      "       95992       0.00      0.00      0.00         1\n",
      "       96032       0.00      0.00      0.00         1\n",
      "       96136       0.00      0.00      0.00         1\n",
      "       96614       0.00      0.00      0.00         1\n",
      "       96669       0.00      0.00      0.00         1\n",
      "       96777       0.00      0.00      0.00         1\n",
      "       96782       0.00      0.00      0.00         1\n",
      "       96799       0.00      0.00      0.00         1\n",
      "       96805       0.00      0.00      0.00         1\n",
      "       96824       0.00      0.00      0.00         1\n",
      "       96825       0.00      0.00      0.00         1\n",
      "       96905       0.00      0.00      0.00         1\n",
      "       96939       0.00      0.00      0.00         1\n",
      "       96989       0.00      0.00      0.00         1\n",
      "       97189       0.00      0.00      0.00         1\n",
      "       97196       1.00      1.00      1.00         1\n",
      "       97314       0.00      0.00      0.00         1\n",
      "       97506       0.00      0.00      0.00         1\n",
      "       97773       0.00      0.00      0.00         1\n",
      "       97803       0.00      0.00      0.00         1\n",
      "       97825       0.00      0.00      0.00         1\n",
      "       98065       0.00      0.00      0.00         1\n",
      "       98089       0.00      0.00      0.00         1\n",
      "       98095       0.00      0.00      0.00         1\n",
      "       98125       0.00      0.00      0.00         1\n",
      "       98171       0.00      0.00      0.00         1\n",
      "       98497       0.00      0.00      0.00         1\n",
      "       98574       0.00      0.00      0.00         1\n",
      "       98589       0.00      0.00      0.00         1\n",
      "       98671       0.00      0.00      0.00         1\n",
      "       98720       0.00      0.00      0.00         1\n",
      "       98778       0.00      0.00      0.00         1\n",
      "       98801       0.00      0.00      0.00         1\n",
      "       98830       0.00      0.00      0.00         0\n",
      "       98946       0.00      0.00      0.00         1\n",
      "       99025       1.00      1.00      1.00         1\n",
      "       99028       0.00      0.00      0.00         1\n",
      "       99135       0.00      0.00      0.00         0\n",
      "       99218       0.00      0.00      0.00         1\n",
      "       99341       0.00      0.00      0.00         1\n",
      "       99429       0.00      0.00      0.00         1\n",
      "       99496       0.00      0.00      0.00         1\n",
      "       99515       1.00      1.00      1.00         1\n",
      "       99644       0.00      0.00      0.00         1\n",
      "       99649       0.00      0.00      0.00         1\n",
      "       99775       0.00      0.00      0.00         1\n",
      "       99971       0.00      0.00      0.00         1\n",
      "      100044       0.00      0.00      0.00         1\n",
      "      100141       0.00      0.00      0.00         1\n",
      "      100283       0.00      0.00      0.00         1\n",
      "      100403       0.00      0.00      0.00         1\n",
      "      100424       0.00      0.00      0.00         1\n",
      "      100426       0.00      0.00      0.00         1\n",
      "      100770       1.00      1.00      1.00         1\n",
      "      100798       0.00      0.00      0.00         1\n",
      "      100828       1.00      1.00      1.00         1\n",
      "      100867       0.00      0.00      0.00         1\n",
      "      101063       0.00      0.00      0.00         1\n",
      "      101066       0.00      0.00      0.00         1\n",
      "      101206       0.00      0.00      0.00         1\n",
      "      101263       0.00      0.00      0.00         1\n",
      "      101310       0.00      0.00      0.00         1\n",
      "      101348       0.00      0.00      0.00         1\n",
      "      101883       0.00      0.00      0.00         1\n",
      "      101903       0.00      0.00      0.00         1\n",
      "      102204       0.00      0.00      0.00         1\n",
      "      102379       0.00      0.00      0.00         1\n",
      "      102566       0.00      0.00      0.00         1\n",
      "      102677       0.00      0.00      0.00         1\n",
      "      102748       0.00      0.00      0.00         1\n",
      "      102899       0.00      0.00      0.00         1\n",
      "      102909       0.00      0.00      0.00         1\n",
      "      103050       0.00      0.00      0.00         1\n",
      "      103101       0.00      0.00      0.00         1\n",
      "      103297       0.00      0.00      0.00         1\n",
      "      103352       0.00      0.00      0.00         2\n",
      "      103385       0.00      0.00      0.00         1\n",
      "      103445       0.00      0.00      0.00         1\n",
      "      103471       0.00      0.00      0.00         1\n",
      "      103850       0.00      0.00      0.00         1\n",
      "      104071       0.00      0.00      0.00         1\n",
      "      104100       0.00      0.00      0.00         1\n",
      "      104275       0.00      0.00      0.00         1\n",
      "      104755       0.00      0.00      0.00         1\n",
      "      105068       0.00      0.00      0.00         1\n",
      "      105074       0.00      0.00      0.00         1\n",
      "      105161       0.00      0.00      0.00         1\n",
      "      105490       0.00      0.00      0.00         1\n",
      "      105541       1.00      1.00      1.00         1\n",
      "      105578       0.00      0.00      0.00         1\n",
      "      105674       0.00      0.00      0.00         1\n",
      "      105745       0.00      0.00      0.00         1\n",
      "      106068       0.00      0.00      0.00         1\n",
      "      106179       0.00      0.00      0.00         1\n",
      "      106392       0.00      0.00      0.00         1\n",
      "      106405       0.00      0.00      0.00         0\n",
      "      106532       0.00      0.00      0.00         1\n",
      "      106643       0.00      0.00      0.00         1\n",
      "      106688       0.00      0.00      0.00         1\n",
      "      106815       0.00      0.00      0.00         1\n",
      "      107020       0.00      0.00      0.00         1\n",
      "      107183       0.00      0.00      0.00         1\n",
      "      107313       0.00      0.00      0.00         1\n",
      "      107366       0.00      0.00      0.00         1\n",
      "      107660       0.00      0.00      0.00         1\n",
      "      107666       0.00      0.00      0.00         1\n",
      "      107834       0.00      0.00      0.00         1\n",
      "      107864       0.00      0.00      0.00         1\n",
      "      107878       1.00      1.00      1.00         1\n",
      "      107890       0.00      0.00      0.00         1\n",
      "      108054       0.00      0.00      0.00         1\n",
      "      108229       1.00      1.00      1.00         1\n",
      "      108254       1.00      1.00      1.00         1\n",
      "      108260       0.00      0.00      0.00         1\n",
      "      108293       0.00      0.00      0.00         2\n",
      "      108300       0.00      0.00      0.00         1\n",
      "      108359       0.00      0.00      0.00         1\n",
      "      108422       0.00      0.00      0.00         1\n",
      "      108569       0.00      0.00      0.00         1\n",
      "      108853       0.00      0.00      0.00         1\n",
      "      108870       0.00      0.00      0.00         1\n",
      "      108875       0.00      0.00      0.00         1\n",
      "      109001       0.00      0.00      0.00         1\n",
      "      109058       0.00      0.00      0.00         1\n",
      "      109497       0.00      0.00      0.00         1\n",
      "      109517       0.00      0.00      0.00         1\n",
      "      109622       0.00      0.00      0.00         1\n",
      "      109747       0.00      0.00      0.00         1\n",
      "      109750       0.00      0.00      0.00         1\n",
      "      109771       0.00      0.00      0.00         1\n",
      "      109831       1.00      1.00      1.00         1\n",
      "      109843       1.00      1.00      1.00         1\n",
      "      110146       0.00      0.00      0.00         1\n",
      "      110182       0.00      0.00      0.00         1\n",
      "      110260       0.00      0.00      0.00         1\n",
      "      110288       0.00      0.00      0.00         1\n",
      "      110315       0.00      0.00      0.00         1\n",
      "      110327       0.00      0.00      0.00         1\n",
      "      110482       0.00      0.00      0.00         1\n",
      "      110532       0.00      0.00      0.00         1\n",
      "      110650       1.00      1.00      1.00         1\n",
      "      110667       0.00      0.00      0.00         1\n",
      "      110715       0.00      0.00      0.00         1\n",
      "      110852       0.00      0.00      0.00         1\n",
      "      110926       0.00      0.00      0.00         1\n",
      "      111104       0.00      0.00      0.00         1\n",
      "      111203       1.00      1.00      1.00         1\n",
      "      111381       1.00      1.00      1.00         1\n",
      "      111406       0.00      0.00      0.00         1\n",
      "      111462       0.00      0.00      0.00         1\n",
      "      111521       0.00      0.00      0.00         1\n",
      "      111660       0.00      0.00      0.00         1\n",
      "      111851       0.00      0.00      0.00         1\n",
      "      111902       0.00      0.00      0.00         2\n",
      "      111992       0.00      0.00      0.00         1\n",
      "      112058       0.00      0.00      0.00         1\n",
      "      112073       0.00      0.00      0.00         1\n",
      "      112236       0.00      0.00      0.00         1\n",
      "      112437       0.00      0.00      0.00         0\n",
      "      112448       0.00      0.00      0.00         1\n",
      "      112696       0.00      0.00      0.00         1\n",
      "      112701       0.00      0.00      0.00         1\n",
      "      112851       0.00      0.00      0.00         1\n",
      "      112920       0.00      0.00      0.00         1\n",
      "      113141       0.00      0.00      0.00         1\n",
      "      113186       0.00      0.00      0.00         1\n",
      "      113377       0.00      0.00      0.00         1\n",
      "      113514       0.00      0.00      0.00         1\n",
      "      113574       1.00      1.00      1.00         1\n",
      "      113665       0.00      0.00      0.00         1\n",
      "      113757       0.00      0.00      0.00         1\n",
      "      113803       0.00      0.00      0.00         1\n",
      "      114022       1.00      1.00      1.00         1\n",
      "      114155       0.00      0.00      0.00         1\n",
      "      114279       0.00      0.00      0.00         1\n",
      "      114305       0.00      0.00      0.00         1\n",
      "      114326       0.00      0.00      0.00         1\n",
      "      114506       0.00      0.00      0.00         1\n",
      "      114626       1.00      1.00      1.00         1\n",
      "      114641       0.00      0.00      0.00         1\n",
      "      114775       0.00      0.00      0.00         1\n",
      "      114843       0.00      0.00      0.00         1\n",
      "      114891       1.00      1.00      1.00         1\n",
      "      114980       0.00      0.00      0.00         1\n",
      "      115092       0.00      0.00      0.00         1\n",
      "      115099       0.00      0.00      0.00         1\n",
      "      115292       0.00      0.00      0.00         1\n",
      "      115341       0.00      0.00      0.00         1\n",
      "      115448       0.00      0.00      0.00         1\n",
      "      115504       0.00      0.00      0.00         1\n",
      "      115550       0.00      0.00      0.00         1\n",
      "      115842       0.00      0.00      0.00         1\n",
      "      116027       1.00      1.00      1.00         1\n",
      "      116191       0.00      0.00      0.00         1\n",
      "      116616       0.00      0.00      0.00         1\n",
      "      116639       0.00      0.00      0.00         1\n",
      "      116649       0.00      0.00      0.00         2\n",
      "      116658       0.00      0.00      0.00         1\n",
      "      116673       0.00      0.00      0.00         1\n",
      "      117128       0.00      0.00      0.00         1\n",
      "      117243       0.00      0.00      0.00         1\n",
      "      117276       1.00      1.00      1.00         1\n",
      "      117317       0.00      0.00      0.00         1\n",
      "      117324       0.00      0.00      0.00         1\n",
      "      117392       0.00      0.00      0.00         1\n",
      "      117677       0.00      0.00      0.00         1\n",
      "      117715       0.00      0.00      0.00         1\n",
      "      117834       0.00      0.00      0.00         1\n",
      "      118088       0.00      0.00      0.00         1\n",
      "      118118       0.00      0.00      0.00         1\n",
      "      118400       0.00      0.00      0.00         1\n",
      "      118517       0.00      0.00      0.00         1\n",
      "      118580       0.00      0.00      0.00         1\n",
      "      118620       0.00      0.00      0.00         1\n",
      "      118689       0.00      0.00      0.00         1\n",
      "      118707       1.00      1.00      1.00         1\n",
      "      118774       0.00      0.00      0.00         1\n",
      "      119044       0.00      0.00      0.00         1\n",
      "      119348       0.00      0.00      0.00         1\n",
      "      119404       0.00      0.00      0.00         1\n",
      "      119456       0.00      0.00      0.00         1\n",
      "      119555       0.00      0.00      0.00         1\n",
      "      119655       0.00      0.00      0.00         1\n",
      "      119716       0.00      0.00      0.00         1\n",
      "      119752       0.00      0.00      0.00         0\n",
      "      119871       0.00      0.00      0.00         1\n",
      "      120053       0.00      0.00      0.00         1\n",
      "      120216       0.00      0.00      0.00         1\n",
      "      120264       0.00      0.00      0.00         1\n",
      "      120339       0.00      0.00      0.00         1\n",
      "      120509       0.00      0.00      0.00         1\n",
      "      120691       0.00      0.00      0.00         1\n",
      "      120785       0.00      0.00      0.00         1\n",
      "      120826       0.00      0.00      0.00         1\n",
      "      120835       0.00      0.00      0.00         1\n",
      "      120895       0.00      0.00      0.00         1\n",
      "      120913       0.00      0.00      0.00         1\n",
      "      121044       0.00      0.00      0.00         1\n",
      "      121048       0.00      0.00      0.00         1\n",
      "      121208       1.00      1.00      1.00         1\n",
      "      121247       0.00      0.00      0.00         1\n",
      "      121451       0.00      0.00      0.00         1\n",
      "      121550       0.00      0.00      0.00         1\n",
      "      121888       0.00      0.00      0.00         1\n",
      "      121917       0.00      0.00      0.00         1\n",
      "      122264       0.00      0.00      0.00         1\n",
      "      122434       0.00      0.00      0.00         1\n",
      "      122467       0.00      0.00      0.00         1\n",
      "      122481       0.00      0.00      0.00         1\n",
      "      122577       0.00      0.00      0.00         1\n",
      "      122605       0.00      0.00      0.00         1\n",
      "      122731       0.00      0.00      0.00         1\n",
      "      122846       0.00      0.00      0.00         1\n",
      "      122948       0.00      0.00      0.00         1\n",
      "      123009       0.00      0.00      0.00         1\n",
      "      123188       0.00      0.00      0.00         1\n",
      "      123204       0.00      0.00      0.00         1\n",
      "      123264       0.00      0.00      0.00         1\n",
      "      123369       0.00      0.00      0.00         1\n",
      "      123385       0.00      0.00      0.00         1\n",
      "      123522       0.00      0.00      0.00         1\n",
      "      123648       0.00      0.00      0.00         1\n",
      "      123652       0.00      0.00      0.00         1\n",
      "      123687       0.00      0.00      0.00         1\n",
      "      123809       0.00      0.00      0.00         1\n",
      "      123872       0.00      0.00      0.00         1\n",
      "      124024       0.00      0.00      0.00         1\n",
      "      124253       0.00      0.00      0.00         1\n",
      "      124298       0.00      0.00      0.00         1\n",
      "      124516       0.00      0.00      0.00         1\n",
      "      124707       0.00      0.00      0.00         1\n",
      "      124755       0.00      0.00      0.00         1\n",
      "      124936       0.00      0.00      0.00         1\n",
      "      125046       0.00      0.00      0.00         1\n",
      "      125152       0.00      0.00      0.00         2\n",
      "      125191       0.00      0.00      0.00         1\n",
      "      125301       0.00      0.00      0.00         1\n",
      "      125308       0.00      0.00      0.00         1\n",
      "      125348       0.00      0.00      0.00         1\n",
      "      125439       0.00      0.00      0.00         1\n",
      "      125486       1.00      1.00      1.00         1\n",
      "      126028       0.00      0.00      0.00         1\n",
      "      126046       0.00      0.00      0.00         1\n",
      "      126105       0.00      0.00      0.00         1\n",
      "      126287       0.00      0.00      0.00         1\n",
      "      126472       0.00      0.00      0.00         1\n",
      "      126551       0.00      0.00      0.00         1\n",
      "      126905       0.00      0.00      0.00         1\n",
      "      126996       0.00      0.00      0.00         1\n",
      "      127016       0.00      0.00      0.00         1\n",
      "      127069       0.00      0.00      0.00         1\n",
      "      127168       0.00      0.00      0.00         1\n",
      "      127359       0.00      0.00      0.00         1\n",
      "      127436       0.00      0.00      0.00         1\n",
      "      127455       0.00      0.00      0.00         1\n",
      "      127661       0.00      0.00      0.00         1\n",
      "      127747       0.00      0.00      0.00         1\n",
      "      127883       1.00      1.00      1.00         1\n",
      "      127902       0.00      0.00      0.00         1\n",
      "      127930       0.00      0.00      0.00         1\n",
      "      128068       0.00      0.00      0.00         1\n",
      "      128096       0.00      0.00      0.00         1\n",
      "      128306       0.00      0.00      0.00         1\n",
      "      128513       0.00      0.00      0.00         1\n",
      "      128553       0.00      0.00      0.00         1\n",
      "      128654       0.00      0.00      0.00         1\n",
      "      128849       0.00      0.00      0.00         1\n",
      "      128942       0.00      0.00      0.00         1\n",
      "      128949       1.00      1.00      1.00         1\n",
      "      128970       0.00      0.00      0.00         1\n",
      "      129031       0.00      0.00      0.00         2\n",
      "      129129       1.00      1.00      1.00         1\n",
      "      129168       0.00      0.00      0.00         1\n",
      "      129224       0.00      0.00      0.00         1\n",
      "      129225       0.00      0.00      0.00         1\n",
      "      129411       0.00      0.00      0.00         1\n",
      "      129734       0.00      0.00      0.00         1\n",
      "      129739       0.00      0.00      0.00         1\n",
      "      129867       0.00      0.00      0.00         1\n",
      "      129921       0.00      0.00      0.00         2\n",
      "      129930       0.00      0.00      0.00         1\n",
      "      130170       0.00      0.00      0.00         1\n",
      "      130317       0.00      0.00      0.00         1\n",
      "      130559       0.00      0.00      0.00         1\n",
      "      130679       0.00      0.00      0.00         1\n",
      "      130694       0.00      0.00      0.00         1\n",
      "      131054       0.00      0.00      0.00         1\n",
      "      131122       0.00      0.00      0.00         1\n",
      "      131258       0.00      0.00      0.00         1\n",
      "      131455       0.00      0.00      0.00         1\n",
      "      131477       0.00      0.00      0.00         1\n",
      "      131531       0.00      0.00      0.00         1\n",
      "      131924       0.00      0.00      0.00         1\n",
      "      131976       0.00      0.00      0.00         1\n",
      "      132083       0.00      0.00      0.00         1\n",
      "      132088       0.00      0.00      0.00         1\n",
      "      132101       0.00      0.00      0.00         1\n",
      "      132123       0.00      0.00      0.00         1\n",
      "      132209       0.00      0.00      0.00         1\n",
      "      132302       0.00      0.00      0.00         1\n",
      "      132443       0.00      0.00      0.00         1\n",
      "      132543       0.00      0.00      0.00         1\n",
      "      132728       0.00      0.00      0.00         1\n",
      "      132762       0.00      0.00      0.00         1\n",
      "      132842       0.00      0.00      0.00         1\n",
      "      132954       0.00      0.00      0.00         1\n",
      "      133052       0.00      0.00      0.00         1\n",
      "      133126       0.00      0.00      0.00         1\n",
      "      133353       0.00      0.00      0.00         1\n",
      "      133474       0.00      0.00      0.00         1\n",
      "      134027       0.00      0.00      0.00         1\n",
      "      134028       0.00      0.00      0.00         1\n",
      "      134105       0.00      0.00      0.00         1\n",
      "      134142       0.00      0.00      0.00         1\n",
      "      134206       0.00      0.00      0.00         1\n",
      "      134238       0.00      0.00      0.00         1\n",
      "      134246       0.00      0.00      0.00         1\n",
      "      134312       0.00      0.00      0.00         1\n",
      "      134723       0.00      0.00      0.00         1\n",
      "      134887       0.00      0.00      0.00         1\n",
      "      135065       0.00      0.00      0.00         1\n",
      "      135293       0.00      0.00      0.00         1\n",
      "      135454       0.00      0.00      0.00         1\n",
      "      135793       0.00      0.00      0.00         1\n",
      "      136062       0.00      0.00      0.00         1\n",
      "      136117       0.00      0.00      0.00         1\n",
      "      136125       0.00      0.00      0.00         1\n",
      "      136273       0.00      0.00      0.00         1\n",
      "      136278       0.00      0.00      0.00         1\n",
      "      136345       0.00      0.00      0.00         1\n",
      "      136356       0.00      0.00      0.00         1\n",
      "      136373       1.00      1.00      1.00         1\n",
      "      136374       0.00      0.00      0.00         1\n",
      "      136404       0.00      0.00      0.00         1\n",
      "      136645       0.00      0.00      0.00         1\n",
      "      136671       0.00      0.00      0.00         1\n",
      "      136733       0.00      0.00      0.00         1\n",
      "      136795       0.00      0.00      0.00         1\n",
      "      137215       0.00      0.00      0.00         1\n",
      "      137274       0.00      0.00      0.00         1\n",
      "      137387       0.00      0.00      0.00         1\n",
      "      137398       0.00      0.00      0.00         1\n",
      "      137425       0.00      0.00      0.00         1\n",
      "      137443       0.00      0.00      0.00         1\n",
      "      137715       0.00      0.00      0.00         1\n",
      "      137772       0.00      0.00      0.00         2\n",
      "      138099       0.00      0.00      0.00         1\n",
      "      138201       0.00      0.00      0.00         1\n",
      "      138311       0.00      0.00      0.00         1\n",
      "      138317       0.00      0.00      0.00         1\n",
      "      138332       0.00      0.00      0.00         1\n",
      "      138335       0.00      0.00      0.00         1\n",
      "      138463       1.00      1.00      1.00         1\n",
      "      138642       0.00      0.00      0.00         1\n",
      "      138706       0.00      0.00      0.00         1\n",
      "      138849       1.00      1.00      1.00         1\n",
      "      138951       0.00      0.00      0.00         1\n",
      "      138957       0.00      0.00      0.00         1\n",
      "      139027       0.00      0.00      0.00         1\n",
      "      139427       0.00      0.00      0.00         1\n",
      "      139432       0.00      0.00      0.00         1\n",
      "      139450       0.00      0.00      0.00         1\n",
      "      139601       0.00      0.00      0.00         1\n",
      "      139677       0.00      0.00      0.00         1\n",
      "      140352       0.00      0.00      0.00         0\n",
      "      140399       0.00      0.00      0.00         1\n",
      "      140831       0.00      0.00      0.00         1\n",
      "      141605       0.00      0.00      0.00         1\n",
      "      141664       0.00      0.00      0.00         1\n",
      "      141665       0.00      0.00      0.00         1\n",
      "      141716       0.00      0.00      0.00         1\n",
      "      141723       0.00      0.00      0.00         1\n",
      "      141776       0.00      0.00      0.00         1\n",
      "      141779       1.00      1.00      1.00         1\n",
      "      141845       0.00      0.00      0.00         1\n",
      "      141921       0.00      0.00      0.00         1\n",
      "      141967       0.00      0.00      0.00         1\n",
      "      142165       1.00      1.00      1.00         1\n",
      "      142528       0.00      0.00      0.00         1\n",
      "      142546       1.00      1.00      1.00         1\n",
      "      142614       0.00      0.00      0.00         1\n",
      "      142675       1.00      1.00      1.00         1\n",
      "      142710       0.00      0.00      0.00         1\n",
      "      142774       0.00      0.00      0.00         1\n",
      "      142857       0.00      0.00      0.00         1\n",
      "      142863       0.00      0.00      0.00         1\n",
      "      142944       0.00      0.00      0.00         1\n",
      "      142989       0.00      0.00      0.00         1\n",
      "      143008       0.00      0.00      0.00         1\n",
      "      143108       0.00      0.00      0.00         1\n",
      "      143412       0.00      0.00      0.00         1\n",
      "      143461       0.00      0.00      0.00         1\n",
      "      143484       0.00      0.00      0.00         1\n",
      "      143555       0.00      0.00      0.00         1\n",
      "      143681       0.00      0.00      0.00         1\n",
      "      143802       0.00      0.00      0.00         1\n",
      "      143901       0.00      0.00      0.00         1\n",
      "      144176       0.00      0.00      0.00         1\n",
      "      144208       0.00      0.00      0.00         1\n",
      "      144359       0.00      0.00      0.00         1\n",
      "      144619       0.00      0.00      0.00         1\n",
      "      144745       0.00      0.00      0.00         1\n",
      "      144785       0.00      0.00      0.00         1\n",
      "      145047       0.00      0.00      0.00         2\n",
      "      145071       0.00      0.00      0.00         1\n",
      "      145200       0.00      0.00      0.00         1\n",
      "      145356       0.00      0.00      0.00         1\n",
      "      145455       0.00      0.00      0.00         1\n",
      "      145494       0.00      0.00      0.00         1\n",
      "      145514       0.00      0.00      0.00         1\n",
      "      145550       0.00      0.00      0.00         1\n",
      "      145898       1.00      1.00      1.00         1\n",
      "      146091       0.00      0.00      0.00         1\n",
      "      146092       0.00      0.00      0.00         1\n",
      "      146254       0.00      0.00      0.00         1\n",
      "      146300       0.00      0.00      0.00         1\n",
      "      146611       0.00      0.00      0.00         1\n",
      "      146650       0.00      0.00      0.00         1\n",
      "      146793       0.00      0.00      0.00         1\n",
      "      147099       0.00      0.00      0.00         1\n",
      "      147107       0.00      0.00      0.00         1\n",
      "      147163       0.00      0.00      0.00         2\n",
      "      147221       0.00      0.00      0.00         1\n",
      "      147278       0.00      0.00      0.00         1\n",
      "      147379       0.00      0.00      0.00         1\n",
      "      147574       0.00      0.00      0.00         1\n",
      "      147626       0.00      0.00      0.00         1\n",
      "      147654       0.00      0.00      0.00         1\n",
      "      147708       0.00      0.00      0.00         1\n",
      "      147785       0.00      0.00      0.00         1\n",
      "      148051       0.00      0.00      0.00         1\n",
      "      148066       0.00      0.00      0.00         1\n",
      "      148121       1.00      1.00      1.00         1\n",
      "      148315       0.00      0.00      0.00         1\n",
      "      148319       0.00      0.00      0.00         1\n",
      "      148323       1.00      1.00      1.00         1\n",
      "      148332       0.00      0.00      0.00         1\n",
      "      148512       0.00      0.00      0.00         1\n",
      "      148584       0.00      0.00      0.00         1\n",
      "      148594       0.00      0.00      0.00         1\n",
      "      148683       0.00      0.00      0.00         1\n",
      "      148775       0.00      0.00      0.00         1\n",
      "      148833       0.00      0.00      0.00         1\n",
      "      148977       0.00      0.00      0.00         1\n",
      "      149002       0.00      0.00      0.00         1\n",
      "      149135       0.00      0.00      0.00         1\n",
      "      149150       0.00      0.00      0.00         1\n",
      "      149168       0.00      0.00      0.00         1\n",
      "      149243       0.00      0.00      0.00         0\n",
      "      149257       0.00      0.00      0.00         1\n",
      "      149337       0.00      0.00      0.00         1\n",
      "      149438       0.00      0.00      0.00         1\n",
      "      149447       0.00      0.00      0.00         1\n",
      "      149637       0.00      0.00      0.00         1\n",
      "      149859       0.00      0.00      0.00         1\n",
      "      149936       0.00      0.00      0.00         1\n",
      "      150105       0.00      0.00      0.00         1\n",
      "      150254       0.00      0.00      0.00         1\n",
      "      150316       0.00      0.00      0.00         1\n",
      "      150461       0.00      0.00      0.00         1\n",
      "      150547       0.00      0.00      0.00         1\n",
      "      150710       0.00      0.00      0.00         1\n",
      "      150732       0.00      0.00      0.00         0\n",
      "      150782       0.00      0.00      0.00         1\n",
      "      150830       0.00      0.00      0.00         1\n",
      "      150915       0.00      0.00      0.00         1\n",
      "      151079       0.00      0.00      0.00         1\n",
      "      151101       0.00      0.00      0.00         1\n",
      "      151210       0.00      0.00      0.00         1\n",
      "      151216       1.00      1.00      1.00         1\n",
      "      151258       0.00      0.00      0.00         1\n",
      "      151394       0.00      0.00      0.00         1\n",
      "      151406       0.00      0.00      0.00         1\n",
      "      151496       0.00      0.00      0.00         1\n",
      "      151515       0.00      0.00      0.00         1\n",
      "      151757       1.00      1.00      1.00         1\n",
      "      152046       0.00      0.00      0.00         1\n",
      "      152076       0.00      0.00      0.00         1\n",
      "      152128       1.00      1.00      1.00         1\n",
      "      152203       0.00      0.00      0.00         1\n",
      "      152325       0.00      0.00      0.00         0\n",
      "      152371       0.00      0.00      0.00         1\n",
      "      152390       0.00      0.00      0.00         1\n",
      "      152491       1.00      1.00      1.00         1\n",
      "      152625       0.00      0.00      0.00         1\n",
      "      152740       0.00      0.00      0.00         1\n",
      "      152876       0.00      0.00      0.00         1\n",
      "      152941       0.00      0.00      0.00         1\n",
      "      153229       0.00      0.00      0.00         1\n",
      "      153258       0.00      0.00      0.00         1\n",
      "      153279       0.00      0.00      0.00         1\n",
      "      153291       0.00      0.00      0.00         1\n",
      "      153377       0.00      0.00      0.00         1\n",
      "      153396       0.00      0.00      0.00         1\n",
      "      153437       0.00      0.00      0.00         1\n",
      "      153491       0.00      0.00      0.00         1\n",
      "      153508       0.00      0.00      0.00         1\n",
      "      153515       1.00      1.00      1.00         1\n",
      "      153664       0.00      0.00      0.00         1\n",
      "      153814       1.00      1.00      1.00         1\n",
      "      154148       0.00      0.00      0.00         1\n",
      "      154167       0.00      0.00      0.00         0\n",
      "      154185       0.00      0.00      0.00         1\n",
      "      154426       0.00      0.00      0.00         1\n",
      "      154463       0.00      0.00      0.00         1\n",
      "      154490       0.00      0.00      0.00         1\n",
      "      154650       0.00      0.00      0.00         1\n",
      "      154741       0.00      0.00      0.00         1\n",
      "      154882       0.00      0.00      0.00         1\n",
      "      155013       0.00      0.00      0.00         1\n",
      "      155220       0.00      0.00      0.00         1\n",
      "      155222       0.00      0.00      0.00         1\n",
      "      155240       0.00      0.00      0.00         1\n",
      "      155360       0.00      0.00      0.00         1\n",
      "      155599       0.00      0.00      0.00         2\n",
      "      155725       0.00      0.00      0.00         1\n",
      "      155900       0.00      0.00      0.00         1\n",
      "      155901       0.00      0.00      0.00         1\n",
      "      156029       0.00      0.00      0.00         2\n",
      "      156044       0.00      0.00      0.00         1\n",
      "      156148       0.00      0.00      0.00         1\n",
      "      156241       0.00      0.00      0.00         1\n",
      "      156418       0.00      0.00      0.00         1\n",
      "      156454       0.00      0.00      0.00         1\n",
      "      157074       0.00      0.00      0.00         1\n",
      "      157148       0.00      0.00      0.00         1\n",
      "      157181       0.00      0.00      0.00         1\n",
      "      157222       0.00      0.00      0.00         1\n",
      "      157398       0.00      0.00      0.00         1\n",
      "      157436       0.00      0.00      0.00         1\n",
      "      157497       0.00      0.00      0.00         1\n",
      "      157578       0.00      0.00      0.00         1\n",
      "      157638       0.00      0.00      0.00         1\n",
      "      157942       0.00      0.00      0.00         1\n",
      "      158026       0.00      0.00      0.00         1\n",
      "      158139       0.00      0.00      0.00         1\n",
      "      158179       0.00      0.00      0.00         1\n",
      "      158451       0.00      0.00      0.00         1\n",
      "      158534       0.00      0.00      0.00         1\n",
      "      158717       0.00      0.00      0.00         1\n",
      "      158885       0.00      0.00      0.00         1\n",
      "      158936       0.00      0.00      0.00         1\n",
      "      159106       0.00      0.00      0.00         1\n",
      "      159137       0.00      0.00      0.00         1\n",
      "      159139       0.00      0.00      0.00         1\n",
      "      159191       0.00      0.00      0.00         1\n",
      "      159295       0.00      0.00      0.00         1\n",
      "      159559       0.00      0.00      0.00         1\n",
      "      159705       0.00      0.00      0.00         1\n",
      "      159736       0.00      0.00      0.00         1\n",
      "      159794       0.00      0.00      0.00         1\n",
      "      159822       0.00      0.00      0.00         1\n",
      "      159854       0.00      0.00      0.00         1\n",
      "      159901       0.00      0.00      0.00         1\n",
      "      159957       0.00      0.00      0.00         1\n",
      "      160079       0.00      0.00      0.00         1\n",
      "      160215       0.00      0.00      0.00         1\n",
      "      160367       0.00      0.00      0.00         1\n",
      "      160677       0.00      0.00      0.00         1\n",
      "      160784       0.00      0.00      0.00         1\n",
      "      160839       0.00      0.00      0.00         1\n",
      "      160845       0.00      0.00      0.00         1\n",
      "      160976       0.00      0.00      0.00         1\n",
      "      160996       0.00      0.00      0.00         1\n",
      "      161046       1.00      1.00      1.00         1\n",
      "      161235       0.00      0.00      0.00         2\n",
      "      161293       0.00      0.00      0.00         1\n",
      "      161721       0.00      0.00      0.00         1\n",
      "      161751       0.00      0.00      0.00         1\n",
      "      162183       0.00      0.00      0.00         1\n",
      "      162284       0.00      0.00      0.00         2\n",
      "      162452       0.00      0.00      0.00         1\n",
      "      162550       0.00      0.00      0.00         1\n",
      "      162659       0.00      0.00      0.00         1\n",
      "      162700       0.00      0.00      0.00         1\n",
      "      162759       0.00      0.00      0.00         1\n",
      "      162814       0.00      0.00      0.00         1\n",
      "      162906       0.00      0.00      0.00         1\n",
      "      163002       0.00      0.00      0.00         1\n",
      "      163108       0.00      0.00      0.00         1\n",
      "      163127       1.00      1.00      1.00         1\n",
      "      163242       0.00      0.00      0.00         1\n",
      "      163259       0.00      0.00      0.00         1\n",
      "      163285       0.00      0.00      0.00         1\n",
      "      163351       1.00      1.00      1.00         1\n",
      "      163566       0.00      0.00      0.00         1\n",
      "      163605       0.00      0.00      0.00         1\n",
      "      163640       0.00      0.00      0.00         1\n",
      "      163681       0.00      0.00      0.00         1\n",
      "      163858       0.00      0.00      0.00         1\n",
      "      163896       0.00      0.00      0.00         1\n",
      "      163899       1.00      1.00      1.00         1\n",
      "      163949       0.00      0.00      0.00         1\n",
      "      163996       0.00      0.00      0.00         1\n",
      "      164220       0.00      0.00      0.00         1\n",
      "      164315       0.00      0.00      0.00         1\n",
      "      164463       0.00      0.00      0.00         1\n",
      "      164516       0.00      0.00      0.00         1\n",
      "      164918       0.00      0.00      0.00         1\n",
      "      165108       0.00      0.00      0.00         1\n",
      "      165226       0.00      0.00      0.00         1\n",
      "      165235       0.00      0.00      0.00         1\n",
      "      165349       0.00      0.00      0.00         1\n",
      "      165584       1.00      1.00      1.00         1\n",
      "      165591       0.00      0.00      0.00         1\n",
      "      165675       0.00      0.00      0.00         1\n",
      "      165703       1.00      1.00      1.00         1\n",
      "      165837       0.00      0.00      0.00         1\n",
      "      165882       0.00      0.00      0.00         1\n",
      "      165960       0.00      0.00      0.00         1\n",
      "      166025       0.00      0.00      0.00         1\n",
      "      166201       0.00      0.00      0.00         1\n",
      "      166315       0.00      0.00      0.00         1\n",
      "      166417       0.00      0.00      0.00         1\n",
      "      166455       0.00      0.00      0.00         1\n",
      "      166496       0.00      0.00      0.00         1\n",
      "      166730       0.00      0.00      0.00         1\n",
      "      166767       0.00      0.00      0.00         1\n",
      "      166797       0.00      0.00      0.00         1\n",
      "      166821       0.00      0.00      0.00         1\n",
      "      166960       0.00      0.00      0.00         1\n",
      "      167001       0.00      0.00      0.00         1\n",
      "      167080       0.00      0.00      0.00         1\n",
      "      167174       0.00      0.00      0.00         1\n",
      "      167187       1.00      1.00      1.00         1\n",
      "      167267       0.00      0.00      0.00         1\n",
      "      167342       0.00      0.00      0.00         1\n",
      "      167397       0.00      0.00      0.00         1\n",
      "      167451       0.00      0.00      0.00         1\n",
      "      167457       0.00      0.00      0.00         1\n",
      "      168003       0.00      0.00      0.00         1\n",
      "      168086       0.00      0.00      0.00         1\n",
      "      168399       0.00      0.00      0.00         1\n",
      "      168432       0.00      0.00      0.00         1\n",
      "      168511       0.00      0.00      0.00         1\n",
      "      168549       0.00      0.00      0.00         1\n",
      "      168682       0.00      0.00      0.00         1\n",
      "      168814       0.00      0.00      0.00         1\n",
      "      168834       0.00      0.00      0.00         1\n",
      "      169043       0.00      0.00      0.00         1\n",
      "      169082       0.00      0.00      0.00         1\n",
      "      169085       0.00      0.00      0.00         1\n",
      "      169122       1.00      1.00      1.00         1\n",
      "      169189       0.00      0.00      0.00         1\n",
      "      169194       0.00      0.00      0.00         1\n",
      "      169703       0.00      0.00      0.00         1\n",
      "      169909       0.00      0.00      0.00         1\n",
      "      170074       0.00      0.00      0.00         1\n",
      "      170155       0.00      0.00      0.00         1\n",
      "      170315       1.00      1.00      1.00         1\n",
      "      170327       0.00      0.00      0.00         2\n",
      "      170370       0.00      0.00      0.00         1\n",
      "      170546       0.00      0.00      0.00         1\n",
      "      170693       0.00      0.00      0.00         1\n",
      "      170941       0.00      0.00      0.00         1\n",
      "      170965       0.00      0.00      0.00         1\n",
      "      171008       0.00      0.00      0.00         1\n",
      "      171010       0.00      0.00      0.00         1\n",
      "      171023       0.00      0.00      0.00         1\n",
      "      171028       0.00      0.00      0.00         2\n",
      "      171047       0.00      0.00      0.00         1\n",
      "      171110       0.00      0.00      0.00         1\n",
      "      171272       0.00      0.00      0.00         1\n",
      "      171426       0.00      0.00      0.00         1\n",
      "      171708       0.00      0.00      0.00         1\n",
      "      171730       0.00      0.00      0.00         1\n",
      "      171829       0.00      0.00      0.00         1\n",
      "      171841       0.00      0.00      0.00         0\n",
      "      171950       0.00      0.00      0.00         1\n",
      "      172019       0.00      0.00      0.00         1\n",
      "      172199       0.00      0.00      0.00         1\n",
      "      172207       0.00      0.00      0.00         1\n",
      "      172361       0.00      0.00      0.00         1\n",
      "      172405       0.00      0.00      0.00         1\n",
      "      172414       0.00      0.00      0.00         1\n",
      "      172422       0.00      0.00      0.00         1\n",
      "      172425       1.00      1.00      1.00         1\n",
      "      172492       0.00      0.00      0.00         1\n",
      "      172562       0.00      0.00      0.00         1\n",
      "      172905       0.00      0.00      0.00         1\n",
      "      172906       0.00      0.00      0.00         1\n",
      "      173042       1.00      1.00      1.00         1\n",
      "      173253       0.00      0.00      0.00         1\n",
      "      173360       0.00      0.00      0.00         1\n",
      "      173415       0.00      0.00      0.00         1\n",
      "      173848       0.00      0.00      0.00         1\n",
      "      173861       0.00      0.00      0.00         1\n",
      "      174044       0.00      0.00      0.00         1\n",
      "      174174       0.00      0.00      0.00         1\n",
      "      174280       0.00      0.00      0.00         1\n",
      "      174292       0.00      0.00      0.00         1\n",
      "      174366       0.00      0.00      0.00         1\n",
      "      174423       0.00      0.00      0.00         1\n",
      "      174505       0.00      0.00      0.00         1\n",
      "      174583       0.00      0.00      0.00         1\n",
      "      174633       0.00      0.00      0.00         1\n",
      "      174962       0.00      0.00      0.00         1\n",
      "      175087       0.00      0.00      0.00         2\n",
      "      175148       0.00      0.00      0.00         1\n",
      "      175238       0.00      0.00      0.00         3\n",
      "      175275       0.00      0.00      0.00         1\n",
      "      175635       0.00      0.00      0.00         1\n",
      "      175880       0.00      0.00      0.00         1\n",
      "      175929       0.00      0.00      0.00         1\n",
      "      176107       0.00      0.00      0.00         1\n",
      "      176123       0.00      0.00      0.00         1\n",
      "      176205       0.00      0.00      0.00         1\n",
      "      176462       0.00      0.00      0.00         1\n",
      "      176692       0.00      0.00      0.00         1\n",
      "      176932       1.00      1.00      1.00         1\n",
      "      177004       0.00      0.00      0.00         1\n",
      "      177067       0.00      0.00      0.00         1\n",
      "      177142       0.00      0.00      0.00         1\n",
      "      177222       0.00      0.00      0.00         1\n",
      "      177228       0.00      0.00      0.00         1\n",
      "      177446       0.00      0.00      0.00         1\n",
      "      177506       0.00      0.00      0.00         1\n",
      "      177546       0.00      0.00      0.00         1\n",
      "      177568       0.00      0.00      0.00         1\n",
      "      177606       0.00      0.00      0.00         1\n",
      "      177975       0.00      0.00      0.00         1\n",
      "      178069       0.00      0.00      0.00         1\n",
      "      178098       0.00      0.00      0.00         1\n",
      "      178543       0.00      0.00      0.00         1\n",
      "      178763       0.00      0.00      0.00         1\n",
      "      178956       0.00      0.00      0.00         1\n",
      "      179031       0.00      0.00      0.00         1\n",
      "      179367       0.00      0.00      0.00         1\n",
      "      179409       0.00      0.00      0.00         1\n",
      "      179419       0.00      0.00      0.00         1\n",
      "      179464       1.00      1.00      1.00         1\n",
      "      179595       0.00      0.00      0.00         1\n",
      "      179812       0.00      0.00      0.00         1\n",
      "      179872       0.00      0.00      0.00         1\n",
      "      179945       0.00      0.00      0.00         1\n",
      "      180016       0.00      0.00      0.00         1\n",
      "      180019       0.00      0.00      0.00         1\n",
      "      180143       0.00      0.00      0.00         1\n",
      "      180252       0.00      0.00      0.00         1\n",
      "      180298       1.00      1.00      1.00         1\n",
      "      180549       0.00      0.00      0.00         1\n",
      "      180572       0.00      0.00      0.00         1\n",
      "      180635       0.00      0.00      0.00         1\n",
      "      180712       1.00      1.00      1.00         1\n",
      "      180740       0.00      0.00      0.00         1\n",
      "      180748       0.00      0.00      0.00         1\n",
      "      180762       0.00      0.00      0.00         1\n",
      "      180989       0.00      0.00      0.00         1\n",
      "      181107       0.00      0.00      0.00         1\n",
      "      181163       0.00      0.00      0.00         1\n",
      "      181314       0.00      0.00      0.00         1\n",
      "      181790       0.00      0.00      0.00         1\n",
      "      182066       0.00      0.00      0.00         1\n",
      "      182149       1.00      1.00      1.00         1\n",
      "      182273       0.00      0.00      0.00         1\n",
      "      182355       0.00      0.00      0.00         1\n",
      "      182948       0.00      0.00      0.00         1\n",
      "      183003       0.00      0.00      0.00         1\n",
      "      183060       0.00      0.00      0.00         1\n",
      "      183224       0.00      0.00      0.00         1\n",
      "      183288       0.00      0.00      0.00         1\n",
      "      183412       0.00      0.00      0.00         1\n",
      "      183586       0.00      0.00      0.00         1\n",
      "      183890       0.00      0.00      0.00         1\n",
      "      183953       0.00      0.00      0.00         1\n",
      "      184192       0.00      0.00      0.00         1\n",
      "      184217       0.00      0.00      0.00         1\n",
      "      184327       0.00      0.00      0.00         1\n",
      "      184456       0.00      0.00      0.00         1\n",
      "      184500       0.00      0.00      0.00         1\n",
      "      184672       0.00      0.00      0.00         1\n",
      "      184855       0.00      0.00      0.00         1\n",
      "      184890       0.00      0.00      0.00         1\n",
      "      184967       0.00      0.00      0.00         1\n",
      "      185313       0.00      0.00      0.00         1\n",
      "      185440       0.00      0.00      0.00         1\n",
      "      185449       1.00      1.00      1.00         1\n",
      "      185565       0.00      0.00      0.00         1\n",
      "      185582       0.00      0.00      0.00         1\n",
      "      185798       0.00      0.00      0.00         1\n",
      "      185837       0.00      0.00      0.00         1\n",
      "      185872       0.00      0.00      0.00         1\n",
      "      185968       0.00      0.00      0.00         1\n",
      "      186287       0.00      0.00      0.00         1\n",
      "      186361       0.00      0.00      0.00         1\n",
      "      186364       0.00      0.00      0.00         1\n",
      "      186793       0.00      0.00      0.00         1\n",
      "      186827       0.00      0.00      0.00         1\n",
      "      187155       0.00      0.00      0.00         1\n",
      "      187199       0.00      0.00      0.00         1\n",
      "      187579       0.00      0.00      0.00         1\n",
      "      187801       1.00      1.00      1.00         1\n",
      "      187849       0.00      0.00      0.00         1\n",
      "      187973       0.00      0.00      0.00         1\n",
      "      188021       0.00      0.00      0.00         1\n",
      "      188091       1.00      1.00      1.00         1\n",
      "      188106       0.00      0.00      0.00         1\n",
      "      188116       0.00      0.00      0.00         1\n",
      "      188162       0.00      0.00      0.00         1\n",
      "      188276       0.00      0.00      0.00         1\n",
      "      188316       0.00      0.00      0.00         1\n",
      "      188432       0.00      0.00      0.00         1\n",
      "      188470       1.00      1.00      1.00         1\n",
      "      188529       0.00      0.00      0.00         1\n",
      "      188838       0.00      0.00      0.00         1\n",
      "      188926       1.00      1.00      1.00         1\n",
      "      189039       1.00      1.00      1.00         1\n",
      "      189390       0.00      0.00      0.00         1\n",
      "      189429       0.00      0.00      0.00         1\n",
      "      189462       0.00      0.00      0.00         1\n",
      "      189751       0.00      0.00      0.00         1\n",
      "      190038       0.00      0.00      0.00         1\n",
      "      190181       0.00      0.00      0.00         1\n",
      "      190308       0.00      0.00      0.00         1\n",
      "      190369       0.00      0.00      0.00         1\n",
      "      190423       0.00      0.00      0.00         1\n",
      "      190485       0.00      0.00      0.00         1\n",
      "      190648       0.00      0.00      0.00         1\n",
      "      190937       0.00      0.00      0.00         1\n",
      "      191069       0.00      0.00      0.00         1\n",
      "      191575       0.00      0.00      0.00         1\n",
      "      191625       0.00      0.00      0.00         1\n",
      "      191784       0.00      0.00      0.00         1\n",
      "      191845       0.00      0.00      0.00         2\n",
      "      191883       0.00      0.00      0.00         1\n",
      "      191989       0.00      0.00      0.00         1\n",
      "      192036       0.00      0.00      0.00         1\n",
      "      192037       0.00      0.00      0.00         1\n",
      "      192460       0.00      0.00      0.00         1\n",
      "      192627       0.00      0.00      0.00         1\n",
      "      192656       0.00      0.00      0.00         1\n",
      "      192772       0.00      0.00      0.00         1\n",
      "      192835       0.00      0.00      0.00         1\n",
      "      192937       0.00      0.00      0.00         1\n",
      "      193021       0.00      0.00      0.00         1\n",
      "      193064       0.00      0.00      0.00         1\n",
      "      193068       0.00      0.00      0.00         1\n",
      "      193092       0.00      0.00      0.00         1\n",
      "      193211       0.00      0.00      0.00         1\n",
      "      193220       0.00      0.00      0.00         1\n",
      "      193264       0.00      0.00      0.00         1\n",
      "      193269       1.00      0.50      0.67         2\n",
      "      193408       0.00      0.00      0.00         1\n",
      "      193475       0.00      0.00      0.00         1\n",
      "      193546       0.00      0.00      0.00         1\n",
      "      193564       0.00      0.00      0.00         1\n",
      "      193669       0.00      0.00      0.00         0\n",
      "      193720       0.00      0.00      0.00         1\n",
      "      194085       1.00      1.00      1.00         1\n",
      "      194311       0.00      0.00      0.00         1\n",
      "      194455       0.00      0.00      0.00         1\n",
      "      194465       0.00      0.00      0.00         1\n",
      "      194576       0.00      0.00      0.00         1\n",
      "      194688       0.00      0.00      0.00         1\n",
      "      194744       0.00      0.00      0.00         1\n",
      "      194783       0.00      0.00      0.00         1\n",
      "      194818       0.00      0.00      0.00         1\n",
      "      194874       0.00      0.00      0.00         1\n",
      "      194970       0.00      0.00      0.00         1\n",
      "      194986       0.00      0.00      0.00         1\n",
      "      195042       0.00      0.00      0.00         1\n",
      "      195135       0.00      0.00      0.00         1\n",
      "      195172       0.00      0.00      0.00         1\n",
      "      195226       0.00      0.00      0.00         1\n",
      "      195317       0.00      0.00      0.00         1\n",
      "      195341       0.00      0.00      0.00         0\n",
      "      195544       0.00      0.00      0.00         1\n",
      "      195639       0.00      0.00      0.00         1\n",
      "      195929       0.00      0.00      0.00         1\n",
      "      195937       0.00      0.00      0.00         1\n",
      "      195968       0.00      0.00      0.00         1\n",
      "      195979       0.00      0.00      0.00         1\n",
      "      196066       0.00      0.00      0.00         1\n",
      "      196389       0.00      0.00      0.00         1\n",
      "      196560       0.00      0.00      0.00         1\n",
      "      196568       0.00      0.00      0.00         1\n",
      "      196656       0.00      0.00      0.00         1\n",
      "      196699       0.00      0.00      0.00         1\n",
      "      196756       0.00      0.00      0.00         1\n",
      "      196813       0.00      0.00      0.00         1\n",
      "      197173       0.00      0.00      0.00         1\n",
      "      197216       0.00      0.00      0.00         1\n",
      "      197247       0.00      0.00      0.00         1\n",
      "      197289       0.00      0.00      0.00         1\n",
      "      197426       0.00      0.00      0.00         1\n",
      "      197430       0.00      0.00      0.00         1\n",
      "      197479       0.00      0.00      0.00         1\n",
      "      197596       0.00      0.00      0.00         1\n",
      "      197660       0.00      0.00      0.00         1\n",
      "      197724       0.00      0.00      0.00         1\n",
      "      197803       0.00      0.00      0.00         1\n",
      "      197848       0.00      0.00      0.00         1\n",
      "      197916       0.00      0.00      0.00         1\n",
      "      198002       0.00      0.00      0.00         1\n",
      "      198121       0.00      0.00      0.00         1\n",
      "      198139       0.00      0.00      0.00         1\n",
      "      198146       0.00      0.00      0.00         1\n",
      "      198210       0.00      0.00      0.00         1\n",
      "      198321       0.00      0.00      0.00         1\n",
      "      198419       0.00      0.00      0.00         1\n",
      "      198617       0.00      0.00      0.00         1\n",
      "      198656       0.00      0.00      0.00         1\n",
      "      198781       0.00      0.00      0.00         1\n",
      "      198860       0.00      0.00      0.00         1\n",
      "      199172       0.00      0.00      0.00         1\n",
      "      199298       0.00      0.00      0.00         1\n",
      "      199327       0.00      0.00      0.00         1\n",
      "      199343       1.00      1.00      1.00         1\n",
      "      199383       0.00      0.00      0.00         2\n",
      "      199400       0.00      0.00      0.00         1\n",
      "      199472       0.00      0.00      0.00         1\n",
      "      199709       0.00      0.00      0.00         1\n",
      "      199828       0.00      0.00      0.00         1\n",
      "      199904       0.00      0.00      0.00         1\n",
      "      199977       0.00      0.00      0.00         1\n",
      "\n",
      "    accuracy                           0.07      1500\n",
      "   macro avg       0.07      0.07      0.07      1500\n",
      "weighted avg       0.07      0.07      0.07      1500\n",
      "\n"
     ]
    },
    {
     "name": "stderr",
     "output_type": "stream",
     "text": [
      "C:\\Users\\91799\\anaconda3\\lib\\site-packages\\sklearn\\metrics\\_classification.py:1318: UndefinedMetricWarning: Precision and F-score are ill-defined and being set to 0.0 in labels with no predicted samples. Use `zero_division` parameter to control this behavior.\n",
      "  _warn_prf(average, modifier, msg_start, len(result))\n",
      "C:\\Users\\91799\\anaconda3\\lib\\site-packages\\sklearn\\metrics\\_classification.py:1318: UndefinedMetricWarning: Recall and F-score are ill-defined and being set to 0.0 in labels with no true samples. Use `zero_division` parameter to control this behavior.\n",
      "  _warn_prf(average, modifier, msg_start, len(result))\n",
      "C:\\Users\\91799\\anaconda3\\lib\\site-packages\\sklearn\\metrics\\_classification.py:1318: UndefinedMetricWarning: Precision and F-score are ill-defined and being set to 0.0 in labels with no predicted samples. Use `zero_division` parameter to control this behavior.\n",
      "  _warn_prf(average, modifier, msg_start, len(result))\n",
      "C:\\Users\\91799\\anaconda3\\lib\\site-packages\\sklearn\\metrics\\_classification.py:1318: UndefinedMetricWarning: Recall and F-score are ill-defined and being set to 0.0 in labels with no true samples. Use `zero_division` parameter to control this behavior.\n",
      "  _warn_prf(average, modifier, msg_start, len(result))\n",
      "C:\\Users\\91799\\anaconda3\\lib\\site-packages\\sklearn\\metrics\\_classification.py:1318: UndefinedMetricWarning: Precision and F-score are ill-defined and being set to 0.0 in labels with no predicted samples. Use `zero_division` parameter to control this behavior.\n",
      "  _warn_prf(average, modifier, msg_start, len(result))\n",
      "C:\\Users\\91799\\anaconda3\\lib\\site-packages\\sklearn\\metrics\\_classification.py:1318: UndefinedMetricWarning: Recall and F-score are ill-defined and being set to 0.0 in labels with no true samples. Use `zero_division` parameter to control this behavior.\n",
      "  _warn_prf(average, modifier, msg_start, len(result))\n"
     ]
    }
   ],
   "source": [
    "from sklearn.metrics import classification_report\n",
    "print(classification_report(y_test,naivebayes))"
   ]
  },
  {
   "cell_type": "code",
   "execution_count": 87,
   "id": "157d3d57",
   "metadata": {},
   "outputs": [
    {
     "name": "stdout",
     "output_type": "stream",
     "text": [
      "accuracy_score: 0.066\n",
      "precision_score: 0.06667469879518073\n",
      "f1_score: 0.06579365079365079\n",
      "recall_score: 0.066\n"
     ]
    },
    {
     "name": "stderr",
     "output_type": "stream",
     "text": [
      "C:\\Users\\91799\\anaconda3\\lib\\site-packages\\sklearn\\metrics\\_classification.py:1318: UndefinedMetricWarning: Precision is ill-defined and being set to 0.0 in labels with no predicted samples. Use `zero_division` parameter to control this behavior.\n",
      "  _warn_prf(average, modifier, msg_start, len(result))\n",
      "C:\\Users\\91799\\anaconda3\\lib\\site-packages\\sklearn\\metrics\\_classification.py:1318: UndefinedMetricWarning: Recall is ill-defined and being set to 0.0 in labels with no true samples. Use `zero_division` parameter to control this behavior.\n",
      "  _warn_prf(average, modifier, msg_start, len(result))\n"
     ]
    }
   ],
   "source": [
    "print('accuracy_score:',accuracy_score(y_test,naivebayes))\n",
    "print('precision_score:',precision_score(y_test,naivebayes,average='weighted'))\n",
    "print('f1_score:',f1_score(y_test,naivebayes,average='weighted'))\n",
    "print('recall_score:',recall_score(y_test,naivebayes,average='weighted'))"
   ]
  },
  {
   "cell_type": "markdown",
   "id": "8a7628f2",
   "metadata": {},
   "source": [
    "# KNN"
   ]
  },
  {
   "cell_type": "code",
   "execution_count": 105,
   "id": "8fba0557",
   "metadata": {},
   "outputs": [],
   "source": [
    "from sklearn.neighbors import KNeighborsClassifier\n",
    "acc_values = [] #find the optimum k values\n",
    "neighbors = np.arange(3,15)\n",
    "for k in neighbors:\n",
    "  classifier = KNeighborsClassifier(n_neighbors=k, metric='minkowski')\n",
    "  classifier.fit(x_test,y_test)\n",
    "  y_pred = classifier.predict(x_test)\n",
    "  acc = accuracy_score(y_test,y_pred) # find the maximum accuracy\n",
    "  acc_values.append(acc)"
   ]
  },
  {
   "cell_type": "code",
   "execution_count": 106,
   "id": "ca0d0c19",
   "metadata": {},
   "outputs": [
    {
     "data": {
      "text/plain": [
       "Text(0, 0.5, 'accuracy')"
      ]
     },
     "execution_count": 106,
     "metadata": {},
     "output_type": "execute_result"
    },
    {
     "data": {
      "image/png": "[encoded data removed]",
      "text/plain": [
       "<Figure size 432x288 with 1 Axes>"
      ]
     },
     "metadata": {
      "needs_background": "light"
     },
     "output_type": "display_data"
    }
   ],
   "source": [
    "plt.plot(neighbors, acc_values,'o-')\n",
    "plt.xlabel('k value')\n",
    "plt.ylabel('accuracy')"
   ]
  },
  {
   "cell_type": "code",
   "execution_count": 107,
   "id": "ac1d3ff2",
   "metadata": {},
   "outputs": [
    {
     "name": "stdout",
     "output_type": "stream",
     "text": [
      "accuracy_score: 0.09666666666666666\n"
     ]
    }
   ],
   "source": [
    "# now we can make the model with k value as 3\n",
    "classifier = KNeighborsClassifier(n_neighbors=12, metric='minkowski')\n",
    "classifier.fit(x_test,y_test)\n",
    "y_pred = classifier.predict(x_test)\n",
    "\n",
    "# Calling function to check model performances\n",
    "print('accuracy_score:',accuracy_score(y_test,y_pred))"
   ]
  },
  {
   "cell_type": "markdown",
   "id": "2c3f91fc",
   "metadata": {},
   "source": [
    "The 6 models are worked, then we analyse which model is good .Here the best model is KNN because knn have the high accuracy. "
   ]
  },
  {
   "cell_type": "code",
   "execution_count": null,
   "id": "0b826e29",
   "metadata": {},
   "outputs": [],
   "source": []
  }
 ],
 "metadata": {
  "kernelspec": {
   "display_name": "Python 3",
   "language": "python",
   "name": "python3"
  },
  "language_info": {
   "codemirror_mode": {
    "name": "ipython",
    "version": 3
   },
   "file_extension": ".py",
   "mimetype": "text/x-python",
   "name": "python",
   "nbconvert_exporter": "python",
   "pygments_lexer": "ipython3",
   "version": "3.8.8"
  }
 },
 "nbformat": 4,
 "nbformat_minor": 5
}
